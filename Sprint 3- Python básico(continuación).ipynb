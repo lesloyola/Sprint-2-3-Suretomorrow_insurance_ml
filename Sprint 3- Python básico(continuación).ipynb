{
 "cells": [
  {
   "cell_type": "markdown",
   "metadata": {},
   "source": [
    "# Análisis de canciones reproducidas"
   ]
  },
  {
   "cell_type": "markdown",
   "metadata": {
    "id": "fhq_eyov_Zcs"
   },
   "source": [
    "# Contenido <a id='back'></a>\n",
    "\n",
    "* [Introducción](#intro)\n",
    "* [Etapa 1. Descripción de los datos](#data_review)\n",
    "    * [Conclusiones](#data_review_conclusions)\n",
    "* [Etapa 2. Preprocesamiento de datos](#data_preprocessing)\n",
    "    * [2.1 Estilo del encabezado](#header_style)\n",
    "    * [2.2 Valores ausentes](#missing_values)\n",
    "    * [2.3 Duplicados](#duplicates)\n",
    "    * [2.4 Conclusiones](#data_preprocessing_conclusions)\n",
    "* [Etapa 3. Prueba de hipótesis](#hypothesis)\n",
    "    * [3.1 Hipótesis 1: actividad de los usuarios y las usuarias en las dos ciudades](#activity)\n",
    "* [Conclusiones](#end)"
   ]
  },
  {
   "cell_type": "markdown",
   "metadata": {
    "id": "VUC88oWjTJw2"
   },
   "source": [
    "## Introducción <a id='intro'></a>\n",
    "Como analista de datos, tu trabajo consiste en analizar datos para extraer información valiosa y tomar decisiones basadas en ellos. Esto implica diferentes etapas, como la descripción general de los datos, el preprocesamiento y la prueba de hipótesis.\n",
    "\n",
    "Siempre que investigamos, necesitamos formular hipótesis que después podamos probar. A veces aceptamos estas hipótesis; otras veces, las rechazamos. Para tomar las decisiones correctas, una empresa debe ser capaz de entender si está haciendo las suposiciones correctas.\n",
    "\n",
    "En este proyecto, compararás las preferencias musicales de las ciudades de Springfield y Shelbyville. Estudiarás datos reales de transmisión de música online para probar la hipótesis a continuación y comparar el comportamiento de los usuarios y las usuarias de estas dos ciudades.\n",
    "\n",
    "### Objetivo:\n",
    "Prueba la hipótesis:\n",
    "1. La actividad de los usuarios y las usuarias difiere según el día de la semana y dependiendo de la ciudad.\n",
    "\n",
    "\n",
    "### Etapas\n",
    "Los datos del comportamiento del usuario se almacenan en el archivo `/datasets/music_project_en.csv`. No hay ninguna información sobre la calidad de los datos, así que necesitarás examinarlos antes de probar la hipótesis.\n",
    "\n",
    "Primero, evaluarás la calidad de los datos y verás si los problemas son significativos. Entonces, durante el preprocesamiento de datos, tomarás en cuenta los problemas más críticos.\n",
    "\n",
    "Tu proyecto consistirá en tres etapas:\n",
    " 1. Descripción de los datos.\n",
    " 2. Preprocesamiento de datos.\n",
    " 3. Prueba de hipótesis.\n",
    "\n",
    "\n",
    "\n",
    "\n",
    "\n",
    "\n"
   ]
  },
  {
   "cell_type": "markdown",
   "metadata": {
    "id": "hDt6pg-Rw-1U"
   },
   "source": [
    "[Volver a Contenidos](#back)"
   ]
  },
  {
   "cell_type": "markdown",
   "metadata": {
    "id": "Ml1hmfXC_Zcs"
   },
   "source": [
    "## Etapa 1. Descripción de los datos <a id='data_review'></a>\n",
    "\n",
    "Abre los datos y examínalos."
   ]
  },
  {
   "cell_type": "markdown",
   "metadata": {
    "id": "57eAOGIz_Zcs"
   },
   "source": [
    "Necesitarás `pandas`, así que impórtalo."
   ]
  },
  {
   "cell_type": "code",
   "execution_count": 19,
   "metadata": {
    "id": "AXN7PHPN_Zcs"
   },
   "outputs": [],
   "source": [
    "import pandas as pd"
   ]
  },
  {
   "cell_type": "markdown",
   "metadata": {
    "id": "SG23P8tt_Zcs"
   },
   "source": [
    "Lee el archivo `music_project_en.csv` de la carpeta `/datasets/` y guárdalo en la variable `df`:"
   ]
  },
  {
   "cell_type": "code",
   "execution_count": 20,
   "metadata": {
    "id": "fFVu7vqh_Zct"
   },
   "outputs": [],
   "source": [
    "df = pd.read_csv('/datasets/music_project_en.csv')"
   ]
  },
  {
   "cell_type": "markdown",
   "metadata": {
    "id": "rDoOMd3uTqnZ"
   },
   "source": [
    "Muestra las 10 primeras filas de la tabla:"
   ]
  },
  {
   "cell_type": "code",
   "execution_count": 21,
   "metadata": {
    "id": "oWTVX3gW_Zct",
    "scrolled": false
   },
   "outputs": [
    {
     "data": {
      "text/html": [
       "<div>\n",
       "<style scoped>\n",
       "    .dataframe tbody tr th:only-of-type {\n",
       "        vertical-align: middle;\n",
       "    }\n",
       "\n",
       "    .dataframe tbody tr th {\n",
       "        vertical-align: top;\n",
       "    }\n",
       "\n",
       "    .dataframe thead th {\n",
       "        text-align: right;\n",
       "    }\n",
       "</style>\n",
       "<table border=\"1\" class=\"dataframe\">\n",
       "  <thead>\n",
       "    <tr style=\"text-align: right;\">\n",
       "      <th></th>\n",
       "      <th>userID</th>\n",
       "      <th>Track</th>\n",
       "      <th>artist</th>\n",
       "      <th>genre</th>\n",
       "      <th>City</th>\n",
       "      <th>time</th>\n",
       "      <th>Day</th>\n",
       "    </tr>\n",
       "  </thead>\n",
       "  <tbody>\n",
       "    <tr>\n",
       "      <th>0</th>\n",
       "      <td>FFB692EC</td>\n",
       "      <td>Kamigata To Boots</td>\n",
       "      <td>The Mass Missile</td>\n",
       "      <td>rock</td>\n",
       "      <td>Shelbyville</td>\n",
       "      <td>20:28:33</td>\n",
       "      <td>Wednesday</td>\n",
       "    </tr>\n",
       "    <tr>\n",
       "      <th>1</th>\n",
       "      <td>55204538</td>\n",
       "      <td>Delayed Because of Accident</td>\n",
       "      <td>Andreas Rönnberg</td>\n",
       "      <td>rock</td>\n",
       "      <td>Springfield</td>\n",
       "      <td>14:07:09</td>\n",
       "      <td>Friday</td>\n",
       "    </tr>\n",
       "    <tr>\n",
       "      <th>2</th>\n",
       "      <td>20EC38</td>\n",
       "      <td>Funiculì funiculà</td>\n",
       "      <td>Mario Lanza</td>\n",
       "      <td>pop</td>\n",
       "      <td>Shelbyville</td>\n",
       "      <td>20:58:07</td>\n",
       "      <td>Wednesday</td>\n",
       "    </tr>\n",
       "    <tr>\n",
       "      <th>3</th>\n",
       "      <td>A3DD03C9</td>\n",
       "      <td>Dragons in the Sunset</td>\n",
       "      <td>Fire + Ice</td>\n",
       "      <td>folk</td>\n",
       "      <td>Shelbyville</td>\n",
       "      <td>08:37:09</td>\n",
       "      <td>Monday</td>\n",
       "    </tr>\n",
       "    <tr>\n",
       "      <th>4</th>\n",
       "      <td>E2DC1FAE</td>\n",
       "      <td>Soul People</td>\n",
       "      <td>Space Echo</td>\n",
       "      <td>dance</td>\n",
       "      <td>Springfield</td>\n",
       "      <td>08:34:34</td>\n",
       "      <td>Monday</td>\n",
       "    </tr>\n",
       "    <tr>\n",
       "      <th>5</th>\n",
       "      <td>842029A1</td>\n",
       "      <td>Chains</td>\n",
       "      <td>Obladaet</td>\n",
       "      <td>rusrap</td>\n",
       "      <td>Shelbyville</td>\n",
       "      <td>13:09:41</td>\n",
       "      <td>Friday</td>\n",
       "    </tr>\n",
       "    <tr>\n",
       "      <th>6</th>\n",
       "      <td>4CB90AA5</td>\n",
       "      <td>True</td>\n",
       "      <td>Roman Messer</td>\n",
       "      <td>dance</td>\n",
       "      <td>Springfield</td>\n",
       "      <td>13:00:07</td>\n",
       "      <td>Wednesday</td>\n",
       "    </tr>\n",
       "    <tr>\n",
       "      <th>7</th>\n",
       "      <td>F03E1C1F</td>\n",
       "      <td>Feeling This Way</td>\n",
       "      <td>Polina Griffith</td>\n",
       "      <td>dance</td>\n",
       "      <td>Springfield</td>\n",
       "      <td>20:47:49</td>\n",
       "      <td>Wednesday</td>\n",
       "    </tr>\n",
       "    <tr>\n",
       "      <th>8</th>\n",
       "      <td>8FA1D3BE</td>\n",
       "      <td>L’estate</td>\n",
       "      <td>Julia Dalia</td>\n",
       "      <td>ruspop</td>\n",
       "      <td>Springfield</td>\n",
       "      <td>09:17:40</td>\n",
       "      <td>Friday</td>\n",
       "    </tr>\n",
       "    <tr>\n",
       "      <th>9</th>\n",
       "      <td>E772D5C0</td>\n",
       "      <td>Pessimist</td>\n",
       "      <td>NaN</td>\n",
       "      <td>dance</td>\n",
       "      <td>Shelbyville</td>\n",
       "      <td>21:20:49</td>\n",
       "      <td>Wednesday</td>\n",
       "    </tr>\n",
       "  </tbody>\n",
       "</table>\n",
       "</div>"
      ],
      "text/plain": [
       "     userID                        Track            artist   genre  \\\n",
       "0  FFB692EC            Kamigata To Boots  The Mass Missile    rock   \n",
       "1  55204538  Delayed Because of Accident  Andreas Rönnberg    rock   \n",
       "2    20EC38            Funiculì funiculà       Mario Lanza     pop   \n",
       "3  A3DD03C9        Dragons in the Sunset        Fire + Ice    folk   \n",
       "4  E2DC1FAE                  Soul People        Space Echo   dance   \n",
       "5  842029A1                       Chains          Obladaet  rusrap   \n",
       "6  4CB90AA5                         True      Roman Messer   dance   \n",
       "7  F03E1C1F             Feeling This Way   Polina Griffith   dance   \n",
       "8  8FA1D3BE                     L’estate       Julia Dalia  ruspop   \n",
       "9  E772D5C0                    Pessimist               NaN   dance   \n",
       "\n",
       "        City        time        Day  \n",
       "0  Shelbyville  20:28:33  Wednesday  \n",
       "1  Springfield  14:07:09     Friday  \n",
       "2  Shelbyville  20:58:07  Wednesday  \n",
       "3  Shelbyville  08:37:09     Monday  \n",
       "4  Springfield  08:34:34     Monday  \n",
       "5  Shelbyville  13:09:41     Friday  \n",
       "6  Springfield  13:00:07  Wednesday  \n",
       "7  Springfield  20:47:49  Wednesday  \n",
       "8  Springfield  09:17:40     Friday  \n",
       "9  Shelbyville  21:20:49  Wednesday  "
      ]
     },
     "execution_count": 21,
     "metadata": {},
     "output_type": "execute_result"
    }
   ],
   "source": [
    "df.head(10)"
   ]
  },
  {
   "cell_type": "markdown",
   "metadata": {
    "id": "EO73Kwic_Zct"
   },
   "source": [
    "Obtén la información general sobre la tabla con un comando. Conoces el método que muestra la información general que necesitamos."
   ]
  },
  {
   "cell_type": "code",
   "execution_count": 22,
   "metadata": {
    "id": "DSf2kIb-_Zct"
   },
   "outputs": [
    {
     "name": "stdout",
     "output_type": "stream",
     "text": [
      "<class 'pandas.core.frame.DataFrame'>\n",
      "RangeIndex: 65079 entries, 0 to 65078\n",
      "Data columns (total 7 columns):\n",
      " #   Column    Non-Null Count  Dtype \n",
      "---  ------    --------------  ----- \n",
      " 0     userID  65079 non-null  object\n",
      " 1   Track     63736 non-null  object\n",
      " 2   artist    57512 non-null  object\n",
      " 3   genre     63881 non-null  object\n",
      " 4     City    65079 non-null  object\n",
      " 5   time      65079 non-null  object\n",
      " 6   Day       65079 non-null  object\n",
      "dtypes: object(7)\n",
      "memory usage: 3.5+ MB\n"
     ]
    }
   ],
   "source": [
    "df.info()"
   ]
  },
  {
   "cell_type": "markdown",
   "metadata": {
    "id": "TaQ2Iwbr_Zct"
   },
   "source": [
    "Estas son nuestras observaciones sobre la tabla. Contiene siete columnas. Almacenan los mismos tipos de datos: `object`.\n",
    "\n",
    "Según la documentación:\n",
    "- `' userID'`: identificador del usuario o la usuaria;\n",
    "- `'Track'`: título de la canción;\n",
    "- `'artist'`: nombre del artista;\n",
    "- `'genre'`: género de la pista;\n",
    "- `'City'`: ciudad del usuario o la usuaria;\n",
    "- `'time'`: la hora exacta en la que se reprodujo la canción;\n",
    "- `'Day'`: día de la semana.\n",
    "\n",
    "Podemos ver tres problemas con el estilo en los encabezados de la tabla:\n",
    "1. Algunos encabezados están en mayúsculas, otros en minúsculas.\n",
    "2. Hay espacios en algunos encabezados.\n",
    "3. No existe uso de '_'.\n",
    "\n",
    "\n",
    "\n"
   ]
  },
  {
   "cell_type": "markdown",
   "metadata": {
    "id": "MCB6-dXG_Zct"
   },
   "source": [
    "### Escribe observaciones de tu parte.  <a id='data_review_conclusions'></a>\n",
    "\n",
    "En las filas de la tabla obtenemos tanto el índice como el nombre de cada columna, así como el tipo de datos que contiene cada una. Esto proporciona una visión estructurada y detallada de la composición del DataFrame, permitiendo una mejor comprensión y manipulación de los datos.\n",
    "\n",
    "En este punto, no disponemos de datos suficientes para responder a la hipótesis planteada. Por lo tanto, será necesario obtener más información. Hasta ahora, solo se han identificado errores en los nombres de las columnas."
   ]
  },
  {
   "cell_type": "markdown",
   "metadata": {
    "id": "3eL__vcwViOi"
   },
   "source": [
    "[Volver a Contenidos](#back)"
   ]
  },
  {
   "cell_type": "markdown",
   "metadata": {
    "id": "SjYF6Ub9_Zct"
   },
   "source": [
    "## Etapa 2. Preprocesamiento de datos <a id='data_preprocessing'></a>\n",
    "\n",
    "El objetivo aquí es preparar los datos para que sean analizados.\n",
    "El primer paso es resolver cualquier problema con los encabezados. Luego podemos avanzar a los valores ausentes y duplicados. Empecemos.\n",
    "\n",
    "Corrige el formato en los encabezados de la tabla.\n"
   ]
  },
  {
   "cell_type": "markdown",
   "metadata": {
    "id": "dIaKXr29_Zct"
   },
   "source": [
    "### Estilo del encabezado <a id='header_style'></a>\n",
    "Muestra los encabezados de la tabla (los nombres de las columnas):"
   ]
  },
  {
   "cell_type": "code",
   "execution_count": 23,
   "metadata": {
    "id": "oKOTdF_Q_Zct"
   },
   "outputs": [
    {
     "data": {
      "text/plain": [
       "Index(['  userID', 'Track', 'artist', 'genre', '  City  ', 'time', 'Day'], dtype='object')"
      ]
     },
     "execution_count": 23,
     "metadata": {},
     "output_type": "execute_result"
    }
   ],
   "source": [
    "df.columns"
   ]
  },
  {
   "cell_type": "markdown",
   "metadata": {
    "id": "zj5534cv_Zct"
   },
   "source": [
    "Cambia los encabezados de la tabla de acuerdo con las reglas del buen estilo:\n",
    "* Todos los caracteres deben ser minúsculas.\n",
    "* Elimina los espacios.\n",
    "* Si el nombre tiene varias palabras, utiliza snake_case."
   ]
  },
  {
   "cell_type": "markdown",
   "metadata": {
    "id": "Xu0zkfe5zNJe"
   },
   "source": [
    "Anteriormente, aprendiste acerca de la forma automática de cambiar el nombre de las columnas. Vamos a aplicarla ahora. Utiliza el bucle for para iterar sobre los nombres de las columnas y poner todos los caracteres en minúsculas. Cuando hayas terminado, vuelve a mostrar los encabezados de la tabla:"
   ]
  },
  {
   "cell_type": "code",
   "execution_count": 24,
   "metadata": {
    "id": "6I_RwwMhzM4e"
   },
   "outputs": [
    {
     "data": {
      "text/plain": [
       "Index(['  userid', 'track', 'artist', 'genre', '  city  ', 'time', 'day'], dtype='object')"
      ]
     },
     "execution_count": 24,
     "metadata": {},
     "output_type": "execute_result"
    }
   ],
   "source": [
    "df.columns = [col.lower() for col in df.columns]\n",
    "    \n",
    "df.columns"
   ]
  },
  {
   "cell_type": "markdown",
   "metadata": {
    "id": "pweIRxjSzPYW"
   },
   "source": [
    "Ahora, utilizando el mismo método, elimina los espacios al principio y al final de los nombres de las columnas e imprime los nombres de las columnas nuevamente:"
   ]
  },
  {
   "cell_type": "code",
   "execution_count": 25,
   "metadata": {
    "id": "vVQXbFyJzSYl"
   },
   "outputs": [
    {
     "data": {
      "text/plain": [
       "Index(['userid', 'track', 'artist', 'genre', 'city', 'time', 'day'], dtype='object')"
      ]
     },
     "execution_count": 25,
     "metadata": {},
     "output_type": "execute_result"
    }
   ],
   "source": [
    "df.columns = [col.strip() for col in df.columns]\n",
    "\n",
    "df.columns"
   ]
  },
  {
   "cell_type": "markdown",
   "metadata": {
    "id": "yCb8MW1JzURd"
   },
   "source": [
    "Necesitamos aplicar la regla de snake_case a la columna `userid`. Debe ser `user_id`. Cambia el nombre de esta columna y muestra los nombres de todas las columnas cuando hayas terminado."
   ]
  },
  {
   "cell_type": "code",
   "execution_count": 26,
   "metadata": {
    "id": "ISlFqs5y_Zct"
   },
   "outputs": [
    {
     "name": "stdout",
     "output_type": "stream",
     "text": [
      "<class 'pandas.core.frame.DataFrame'>\n",
      "RangeIndex: 65079 entries, 0 to 65078\n",
      "Data columns (total 7 columns):\n",
      " #   Column   Non-Null Count  Dtype \n",
      "---  ------   --------------  ----- \n",
      " 0   user_id  65079 non-null  object\n",
      " 1   track    63736 non-null  object\n",
      " 2   artist   57512 non-null  object\n",
      " 3   genre    63881 non-null  object\n",
      " 4   city     65079 non-null  object\n",
      " 5   time     65079 non-null  object\n",
      " 6   day      65079 non-null  object\n",
      "dtypes: object(7)\n",
      "memory usage: 3.5+ MB\n"
     ]
    }
   ],
   "source": [
    "df.columns = [col.replace('userid', 'user_id') for col in df.columns]\n",
    "\n",
    "df.info()"
   ]
  },
  {
   "cell_type": "markdown",
   "metadata": {
    "id": "1dqbh00J_Zct"
   },
   "source": [
    "Comprueba el resultado. Muestra los encabezados una vez más:"
   ]
  },
  {
   "cell_type": "code",
   "execution_count": 27,
   "metadata": {
    "id": "d4NOAmTW_Zct"
   },
   "outputs": [
    {
     "name": "stdout",
     "output_type": "stream",
     "text": [
      "<class 'pandas.core.frame.DataFrame'>\n",
      "RangeIndex: 65079 entries, 0 to 65078\n",
      "Data columns (total 7 columns):\n",
      " #   Column   Non-Null Count  Dtype \n",
      "---  ------   --------------  ----- \n",
      " 0   user_id  65079 non-null  object\n",
      " 1   track    63736 non-null  object\n",
      " 2   artist   57512 non-null  object\n",
      " 3   genre    63881 non-null  object\n",
      " 4   city     65079 non-null  object\n",
      " 5   time     65079 non-null  object\n",
      " 6   day      65079 non-null  object\n",
      "dtypes: object(7)\n",
      "memory usage: 3.5+ MB\n"
     ]
    }
   ],
   "source": [
    "df.info()"
   ]
  },
  {
   "cell_type": "markdown",
   "metadata": {
    "id": "xYJk6ksJVpOl"
   },
   "source": [
    "[Volver a Contenidos](#back)"
   ]
  },
  {
   "cell_type": "markdown",
   "metadata": {
    "id": "5ISfbcfY_Zct"
   },
   "source": [
    "### Valores ausentes <a id='missing_values'></a>\n",
    " Primero, encuentra el número de valores ausentes en la tabla. Debes utilizar dos métodos en una secuencia para obtener el número de valores ausentes."
   ]
  },
  {
   "cell_type": "code",
   "execution_count": 28,
   "metadata": {
    "id": "RskX29qr_Zct",
    "scrolled": true
   },
   "outputs": [
    {
     "data": {
      "text/plain": [
       "user_id       0\n",
       "track      1343\n",
       "artist     7567\n",
       "genre      1198\n",
       "city          0\n",
       "time          0\n",
       "day           0\n",
       "dtype: int64"
      ]
     },
     "execution_count": 28,
     "metadata": {},
     "output_type": "execute_result"
    }
   ],
   "source": [
    "df.isna().sum()"
   ]
  },
  {
   "cell_type": "markdown",
   "metadata": {
    "id": "qubhgnlO_Zct"
   },
   "source": [
    "No todos los valores ausentes afectan a la investigación. Por ejemplo, los valores ausentes en `track` y `artist` no son cruciales. Simplemente puedes reemplazarlos con valores predeterminados como el string `'unknown'` (desconocido).\n",
    "\n",
    "Pero los valores ausentes en `'genre'` pueden afectar la comparación entre las preferencias musicales de Springfield y Shelbyville. En la vida real, sería útil saber las razones por las cuales hay datos ausentes e intentar recuperarlos. Pero no tenemos esa oportunidad en este proyecto. Así que tendrás que:\n",
    "* rellenar estos valores ausentes con un valor predeterminado;\n",
    "* evaluar cuánto podrían afectar los valores ausentes a tus cómputos;"
   ]
  },
  {
   "cell_type": "markdown",
   "metadata": {
    "id": "fSv2laPA_Zct"
   },
   "source": [
    "Reemplazar los valores ausentes en las columnas `'track'`, `'artist'` y `'genre'` con el string `'unknown'`. Como mostramos anteriormente en las lecciones, la mejor forma de hacerlo es crear una lista que almacene los nombres de las columnas donde se necesita el reemplazo. Luego, utiliza esta lista e itera sobre las columnas donde se necesita el reemplazo haciendo el propio reemplazo."
   ]
  },
  {
   "cell_type": "code",
   "execution_count": 29,
   "metadata": {
    "id": "KplB5qWs_Zct"
   },
   "outputs": [
    {
     "data": {
      "text/html": [
       "<div>\n",
       "<style scoped>\n",
       "    .dataframe tbody tr th:only-of-type {\n",
       "        vertical-align: middle;\n",
       "    }\n",
       "\n",
       "    .dataframe tbody tr th {\n",
       "        vertical-align: top;\n",
       "    }\n",
       "\n",
       "    .dataframe thead th {\n",
       "        text-align: right;\n",
       "    }\n",
       "</style>\n",
       "<table border=\"1\" class=\"dataframe\">\n",
       "  <thead>\n",
       "    <tr style=\"text-align: right;\">\n",
       "      <th></th>\n",
       "      <th>user_id</th>\n",
       "      <th>track</th>\n",
       "      <th>artist</th>\n",
       "      <th>genre</th>\n",
       "      <th>city</th>\n",
       "      <th>time</th>\n",
       "      <th>day</th>\n",
       "    </tr>\n",
       "  </thead>\n",
       "  <tbody>\n",
       "    <tr>\n",
       "      <th>0</th>\n",
       "      <td>FFB692EC</td>\n",
       "      <td>Kamigata To Boots</td>\n",
       "      <td>The Mass Missile</td>\n",
       "      <td>rock</td>\n",
       "      <td>Shelbyville</td>\n",
       "      <td>20:28:33</td>\n",
       "      <td>Wednesday</td>\n",
       "    </tr>\n",
       "    <tr>\n",
       "      <th>1</th>\n",
       "      <td>55204538</td>\n",
       "      <td>Delayed Because of Accident</td>\n",
       "      <td>Andreas Rönnberg</td>\n",
       "      <td>rock</td>\n",
       "      <td>Springfield</td>\n",
       "      <td>14:07:09</td>\n",
       "      <td>Friday</td>\n",
       "    </tr>\n",
       "    <tr>\n",
       "      <th>2</th>\n",
       "      <td>20EC38</td>\n",
       "      <td>Funiculì funiculà</td>\n",
       "      <td>Mario Lanza</td>\n",
       "      <td>pop</td>\n",
       "      <td>Shelbyville</td>\n",
       "      <td>20:58:07</td>\n",
       "      <td>Wednesday</td>\n",
       "    </tr>\n",
       "    <tr>\n",
       "      <th>3</th>\n",
       "      <td>A3DD03C9</td>\n",
       "      <td>Dragons in the Sunset</td>\n",
       "      <td>Fire + Ice</td>\n",
       "      <td>folk</td>\n",
       "      <td>Shelbyville</td>\n",
       "      <td>08:37:09</td>\n",
       "      <td>Monday</td>\n",
       "    </tr>\n",
       "    <tr>\n",
       "      <th>4</th>\n",
       "      <td>E2DC1FAE</td>\n",
       "      <td>Soul People</td>\n",
       "      <td>Space Echo</td>\n",
       "      <td>dance</td>\n",
       "      <td>Springfield</td>\n",
       "      <td>08:34:34</td>\n",
       "      <td>Monday</td>\n",
       "    </tr>\n",
       "    <tr>\n",
       "      <th>...</th>\n",
       "      <td>...</td>\n",
       "      <td>...</td>\n",
       "      <td>...</td>\n",
       "      <td>...</td>\n",
       "      <td>...</td>\n",
       "      <td>...</td>\n",
       "      <td>...</td>\n",
       "    </tr>\n",
       "    <tr>\n",
       "      <th>65074</th>\n",
       "      <td>729CBB09</td>\n",
       "      <td>My Name</td>\n",
       "      <td>McLean</td>\n",
       "      <td>rnb</td>\n",
       "      <td>Springfield</td>\n",
       "      <td>13:32:28</td>\n",
       "      <td>Wednesday</td>\n",
       "    </tr>\n",
       "    <tr>\n",
       "      <th>65075</th>\n",
       "      <td>D08D4A55</td>\n",
       "      <td>Maybe One Day (feat. Black Spade)</td>\n",
       "      <td>Blu &amp; Exile</td>\n",
       "      <td>hip</td>\n",
       "      <td>Shelbyville</td>\n",
       "      <td>10:00:00</td>\n",
       "      <td>Monday</td>\n",
       "    </tr>\n",
       "    <tr>\n",
       "      <th>65076</th>\n",
       "      <td>C5E3A0D5</td>\n",
       "      <td>Jalopiina</td>\n",
       "      <td>unknown</td>\n",
       "      <td>industrial</td>\n",
       "      <td>Springfield</td>\n",
       "      <td>20:09:26</td>\n",
       "      <td>Friday</td>\n",
       "    </tr>\n",
       "    <tr>\n",
       "      <th>65077</th>\n",
       "      <td>321D0506</td>\n",
       "      <td>Freight Train</td>\n",
       "      <td>Chas McDevitt</td>\n",
       "      <td>rock</td>\n",
       "      <td>Springfield</td>\n",
       "      <td>21:43:59</td>\n",
       "      <td>Friday</td>\n",
       "    </tr>\n",
       "    <tr>\n",
       "      <th>65078</th>\n",
       "      <td>3A64EF84</td>\n",
       "      <td>Tell Me Sweet Little Lies</td>\n",
       "      <td>Monica Lopez</td>\n",
       "      <td>country</td>\n",
       "      <td>Springfield</td>\n",
       "      <td>21:59:46</td>\n",
       "      <td>Friday</td>\n",
       "    </tr>\n",
       "  </tbody>\n",
       "</table>\n",
       "<p>65079 rows × 7 columns</p>\n",
       "</div>"
      ],
      "text/plain": [
       "        user_id                              track            artist  \\\n",
       "0      FFB692EC                  Kamigata To Boots  The Mass Missile   \n",
       "1      55204538        Delayed Because of Accident  Andreas Rönnberg   \n",
       "2        20EC38                  Funiculì funiculà       Mario Lanza   \n",
       "3      A3DD03C9              Dragons in the Sunset        Fire + Ice   \n",
       "4      E2DC1FAE                        Soul People        Space Echo   \n",
       "...         ...                                ...               ...   \n",
       "65074  729CBB09                            My Name            McLean   \n",
       "65075  D08D4A55  Maybe One Day (feat. Black Spade)       Blu & Exile   \n",
       "65076  C5E3A0D5                          Jalopiina           unknown   \n",
       "65077  321D0506                      Freight Train     Chas McDevitt   \n",
       "65078  3A64EF84          Tell Me Sweet Little Lies      Monica Lopez   \n",
       "\n",
       "            genre         city      time        day  \n",
       "0            rock  Shelbyville  20:28:33  Wednesday  \n",
       "1            rock  Springfield  14:07:09     Friday  \n",
       "2             pop  Shelbyville  20:58:07  Wednesday  \n",
       "3            folk  Shelbyville  08:37:09     Monday  \n",
       "4           dance  Springfield  08:34:34     Monday  \n",
       "...           ...          ...       ...        ...  \n",
       "65074         rnb  Springfield  13:32:28  Wednesday  \n",
       "65075         hip  Shelbyville  10:00:00     Monday  \n",
       "65076  industrial  Springfield  20:09:26     Friday  \n",
       "65077        rock  Springfield  21:43:59     Friday  \n",
       "65078     country  Springfield  21:59:46     Friday  \n",
       "\n",
       "[65079 rows x 7 columns]"
      ]
     },
     "execution_count": 29,
     "metadata": {},
     "output_type": "execute_result"
    }
   ],
   "source": [
    "columns_to_replace = ['track', 'artist', 'genre']\n",
    "\n",
    "for col in columns_to_replace:\n",
    "        df[col].fillna('unknown', inplace = True)\n",
    "df"
   ]
  },
  {
   "cell_type": "markdown",
   "metadata": {
    "id": "Ilsm-MZo_Zct"
   },
   "source": [
    "Ahora comprueba el resultado para asegurarte de que después del reemplazo no haya valores ausentes en el conjunto de datos. Para hacer esto, cuenta los valores ausentes nuevamente."
   ]
  },
  {
   "cell_type": "code",
   "execution_count": 30,
   "metadata": {
    "id": "Tq4nYRX4_Zct"
   },
   "outputs": [
    {
     "data": {
      "text/plain": [
       "user_id    0\n",
       "track      0\n",
       "artist     0\n",
       "genre      0\n",
       "city       0\n",
       "time       0\n",
       "day        0\n",
       "dtype: int64"
      ]
     },
     "execution_count": 30,
     "metadata": {},
     "output_type": "execute_result"
    }
   ],
   "source": [
    "df.isna().sum()"
   ]
  },
  {
   "cell_type": "markdown",
   "metadata": {
    "id": "74ZIBmq9VrsK"
   },
   "source": [
    "[Volver a Contenidos](#back)"
   ]
  },
  {
   "cell_type": "markdown",
   "metadata": {
    "id": "BWKRtBJ3_Zct"
   },
   "source": [
    "### Duplicados <a id='duplicates'></a>\n",
    "Encuentra el número de duplicados explícitos en la tabla. Una vez más, debes aplicar dos métodos en una secuencia para obtener la cantidad de duplicados explícitos."
   ]
  },
  {
   "cell_type": "code",
   "execution_count": 31,
   "metadata": {
    "id": "36eES_S0_Zct"
   },
   "outputs": [
    {
     "data": {
      "text/plain": [
       "3826"
      ]
     },
     "execution_count": 31,
     "metadata": {},
     "output_type": "execute_result"
    }
   ],
   "source": [
    "df.duplicated().sum()"
   ]
  },
  {
   "cell_type": "markdown",
   "metadata": {
    "id": "Ot25h6XR_Zct"
   },
   "source": [
    "Ahora, elimina todos los duplicados. Para ello, llama al método que hace exactamente esto."
   ]
  },
  {
   "cell_type": "code",
   "execution_count": 32,
   "metadata": {
    "id": "exFHq6tt_Zct"
   },
   "outputs": [],
   "source": [
    "df.drop_duplicates(inplace=True)"
   ]
  },
  {
   "cell_type": "markdown",
   "metadata": {
    "id": "Im2YwBEG_Zct"
   },
   "source": [
    "Comprobemos ahora si eliminamos con éxito todos los duplicados. Cuenta los duplicados explícitos una vez más para asegurarte de haberlos eliminado todos:"
   ]
  },
  {
   "cell_type": "code",
   "execution_count": 33,
   "metadata": {
    "id": "-8PuNWQ0_Zct"
   },
   "outputs": [
    {
     "data": {
      "text/plain": [
       "0"
      ]
     },
     "execution_count": 33,
     "metadata": {},
     "output_type": "execute_result"
    }
   ],
   "source": [
    "df.duplicated().sum()"
   ]
  },
  {
   "cell_type": "markdown",
   "metadata": {
    "id": "QlFBsxAr_Zct"
   },
   "source": [
    "Ahora queremos deshacernos de los duplicados implícitos en la columna `genre`. Por ejemplo, el nombre de un género se puede escribir de varias formas. Dichos errores también pueden afectar al resultado."
   ]
  },
  {
   "cell_type": "markdown",
   "metadata": {
    "id": "eSjWwsOh_Zct"
   },
   "source": [
    "Para hacerlo, primero mostremos una lista de nombres de género únicos, ordenados en orden alfabético. Para ello:\n",
    "* Extrae la columna `genre` del DataFrame.\n",
    "* Llama al método que devolverá todos los valores únicos en la columna extraída.\n"
   ]
  },
  {
   "cell_type": "code",
   "execution_count": 34,
   "metadata": {
    "id": "JIUcqzZN_Zct"
   },
   "outputs": [
    {
     "data": {
      "text/plain": [
       "array(['rock', 'pop', 'folk', 'dance', 'rusrap', 'ruspop', 'world',\n",
       "       'electronic', 'unknown', 'alternative', 'children', 'rnb', 'hip',\n",
       "       'jazz', 'postrock', 'latin', 'classical', 'metal', 'reggae',\n",
       "       'triphop', 'blues', 'instrumental', 'rusrock', 'dnb', 'türk',\n",
       "       'post', 'country', 'psychedelic', 'conjazz', 'indie',\n",
       "       'posthardcore', 'local', 'avantgarde', 'punk', 'videogame',\n",
       "       'techno', 'house', 'christmas', 'melodic', 'caucasian',\n",
       "       'reggaeton', 'soundtrack', 'singer', 'ska', 'salsa', 'ambient',\n",
       "       'film', 'western', 'rap', 'beats', \"hard'n'heavy\", 'progmetal',\n",
       "       'minimal', 'tropical', 'contemporary', 'new', 'soul', 'holiday',\n",
       "       'german', 'jpop', 'spiritual', 'urban', 'gospel', 'nujazz',\n",
       "       'folkmetal', 'trance', 'miscellaneous', 'anime', 'hardcore',\n",
       "       'progressive', 'korean', 'numetal', 'vocal', 'estrada', 'tango',\n",
       "       'loungeelectronic', 'classicmetal', 'dubstep', 'club', 'deep',\n",
       "       'southern', 'black', 'folkrock', 'fitness', 'french', 'disco',\n",
       "       'religious', 'hiphop', 'drum', 'extrememetal', 'türkçe',\n",
       "       'experimental', 'easy', 'metalcore', 'modern', 'argentinetango',\n",
       "       'old', 'swing', 'breaks', 'eurofolk', 'stonerrock', 'industrial',\n",
       "       'funk', 'middle', 'variété', 'other', 'adult', 'christian',\n",
       "       'thrash', 'gothic', 'international', 'muslim', 'relax', 'schlager',\n",
       "       'caribbean', 'nu', 'breakbeat', 'comedy', 'chill', 'newage',\n",
       "       'specialty', 'uzbek', 'k-pop', 'balkan', 'chinese', 'meditative',\n",
       "       'dub', 'power', 'death', 'grime', 'arabesk', 'romance', 'flamenco',\n",
       "       'leftfield', 'european', 'tech', 'newwave', 'dancehall', 'mpb',\n",
       "       'piano', 'top', 'bigroom', 'opera', 'celtic', 'tradjazz',\n",
       "       'acoustic', 'epicmetal', 'hip-hop', 'historisch', 'downbeat',\n",
       "       'downtempo', 'africa', 'audiobook', 'jewish', 'sängerportrait',\n",
       "       'deutschrock', 'eastern', 'action', 'future', 'electropop',\n",
       "       'folklore', 'bollywood', 'marschmusik', 'rnr', 'karaoke', 'indian',\n",
       "       'rancheras', 'afrikaans', 'rhythm', 'sound', 'deutschspr', 'trip',\n",
       "       'lovers', 'choral', 'dancepop', 'retro', 'smooth', 'mexican',\n",
       "       'brazilian', 'ïîï', 'mood', 'surf', 'gangsta', 'inspirational',\n",
       "       'idm', 'ethnic', 'bluegrass', 'broadway', 'animated', 'americana',\n",
       "       'karadeniz', 'rockabilly', 'colombian', 'self', 'hop', 'sertanejo',\n",
       "       'japanese', 'canzone', 'lounge', 'sport', 'ragga', 'traditional',\n",
       "       'gitarre', 'frankreich', 'emo', 'laiko', 'cantopop', 'glitch',\n",
       "       'documentary', 'oceania', 'popeurodance', 'dark', 'vi', 'grunge',\n",
       "       'hardstyle', 'samba', 'garage', 'art', 'folktronica', 'entehno',\n",
       "       'mediterranean', 'chamber', 'cuban', 'taraftar', 'gypsy',\n",
       "       'hardtechno', 'shoegazing', 'bossa', 'latino', 'worldbeat',\n",
       "       'malaysian', 'baile', 'ghazal', 'arabic', 'popelectronic', 'acid',\n",
       "       'kayokyoku', 'neoklassik', 'tribal', 'tanzorchester', 'native',\n",
       "       'independent', 'cantautori', 'handsup', 'punjabi', 'synthpop',\n",
       "       'rave', 'französisch', 'quebecois', 'speech', 'soulful', 'jam',\n",
       "       'ram', 'horror', 'orchestral', 'neue', 'roots', 'slow', 'jungle',\n",
       "       'indipop', 'axé', 'fado', 'showtunes', 'arena', 'irish',\n",
       "       'mandopop', 'forró', 'dirty', 'regional'], dtype=object)"
      ]
     },
     "execution_count": 34,
     "metadata": {},
     "output_type": "execute_result"
    }
   ],
   "source": [
    "df['genre'].unique()"
   ]
  },
  {
   "cell_type": "markdown",
   "metadata": {
    "id": "qej-Qmuo_Zct"
   },
   "source": [
    "Busca en la lista para encontrar duplicados implícitos del género `hiphop`. Estos pueden ser nombres escritos incorrectamente o nombres alternativos para el mismo género.\n",
    "\n",
    "Verás los siguientes duplicados implícitos:\n",
    "* `hip`\n",
    "* `hop`\n",
    "* `hip-hop`\n",
    "\n",
    "Para deshacerte de ellos, crea una función llamada `replace_wrong_genres()` con dos parámetros:\n",
    "* `wrong_genres=`: esta es una lista que contiene todos los valores que necesitas reemplazar.\n",
    "* `correct_genre=`: este es un string que vas a utilizar como reemplazo.\n",
    "\n",
    "Como resultado, la función debería corregir los nombres en la columna `'genre'` de la tabla `df`, es decir, remplazar cada valor de la lista `wrong_genres` por el valor en `correct_genre`.\n",
    "\n",
    "Dentro del cuerpo de la función, utiliza un bucle `'for'` para iterar sobre la lista de géneros incorrectos, extrae la columna `'genre'` y aplica el método `replace` para hacer correcciones."
   ]
  },
  {
   "cell_type": "code",
   "execution_count": 39,
   "metadata": {
    "id": "ErNDkmns_Zct"
   },
   "outputs": [],
   "source": [
    "def replace_wrong_genres(df, genre, wrong_genres, correct_genre):\n",
    "    for wrong_genre in wrong_genres:\n",
    "        df['genre'] = df['genre'].replace(wrong_genre, correct_genre)\n",
    "\n",
    "wrong_genres = ['hip', 'hop', 'hip-hop']\n",
    "correct_genre = 'hiphop'"
   ]
  },
  {
   "cell_type": "markdown",
   "metadata": {},
   "source": [
    "!!!Respuesta del estudiante. Hola, muchas gracias por el comentario pero quisiera saber como lo puedo hacer sin cargar las librerias y base de datos, ya que lo intente sin eso y me mando error, es por eso que tuve que cargar de nuevo las librerias, esto es lo que me genera. Quisiera que me apoyaran para ver cual es el error, ya que no comprendo.  "
   ]
  },
  {
   "cell_type": "markdown",
   "metadata": {
    "id": "aDoBJxbA_Zct"
   },
   "source": [
    "Ahora, llama a `replace_wrong_genres()` y pásale tales argumentos para que retire los duplicados implícitos (`hip`, `hop` y `hip-hop`) y los reemplace por `hiphop`:"
   ]
  },
  {
   "cell_type": "code",
   "execution_count": 37,
   "metadata": {
    "id": "YN5i2hpmSo09"
   },
   "outputs": [],
   "source": [
    "replace_wrong_genres(df, 'genre', wrong_genres, correct_genre)"
   ]
  },
  {
   "cell_type": "markdown",
   "metadata": {
    "id": "zQKF16_RG15m"
   },
   "source": [
    "Asegúrate de que los nombres duplicados han sido eliminados. Muestra la lista de valores únicos de la columna `'genre'` una vez más:"
   ]
  },
  {
   "cell_type": "code",
   "execution_count": 38,
   "metadata": {
    "id": "wvixALnFG15m"
   },
   "outputs": [
    {
     "data": {
      "text/plain": [
       "array(['rock', 'pop', 'folk', 'dance', 'rusrap', 'ruspop', 'world',\n",
       "       'electronic', 'unknown', 'alternative', 'children', 'rnb',\n",
       "       'hiphop', 'jazz', 'postrock', 'latin', 'classical', 'metal',\n",
       "       'reggae', 'triphop', 'blues', 'instrumental', 'rusrock', 'dnb',\n",
       "       'türk', 'post', 'country', 'psychedelic', 'conjazz', 'indie',\n",
       "       'posthardcore', 'local', 'avantgarde', 'punk', 'videogame',\n",
       "       'techno', 'house', 'christmas', 'melodic', 'caucasian',\n",
       "       'reggaeton', 'soundtrack', 'singer', 'ska', 'salsa', 'ambient',\n",
       "       'film', 'western', 'rap', 'beats', \"hard'n'heavy\", 'progmetal',\n",
       "       'minimal', 'tropical', 'contemporary', 'new', 'soul', 'holiday',\n",
       "       'german', 'jpop', 'spiritual', 'urban', 'gospel', 'nujazz',\n",
       "       'folkmetal', 'trance', 'miscellaneous', 'anime', 'hardcore',\n",
       "       'progressive', 'korean', 'numetal', 'vocal', 'estrada', 'tango',\n",
       "       'loungeelectronic', 'classicmetal', 'dubstep', 'club', 'deep',\n",
       "       'southern', 'black', 'folkrock', 'fitness', 'french', 'disco',\n",
       "       'religious', 'drum', 'extrememetal', 'türkçe', 'experimental',\n",
       "       'easy', 'metalcore', 'modern', 'argentinetango', 'old', 'swing',\n",
       "       'breaks', 'eurofolk', 'stonerrock', 'industrial', 'funk', 'middle',\n",
       "       'variété', 'other', 'adult', 'christian', 'thrash', 'gothic',\n",
       "       'international', 'muslim', 'relax', 'schlager', 'caribbean', 'nu',\n",
       "       'breakbeat', 'comedy', 'chill', 'newage', 'specialty', 'uzbek',\n",
       "       'k-pop', 'balkan', 'chinese', 'meditative', 'dub', 'power',\n",
       "       'death', 'grime', 'arabesk', 'romance', 'flamenco', 'leftfield',\n",
       "       'european', 'tech', 'newwave', 'dancehall', 'mpb', 'piano', 'top',\n",
       "       'bigroom', 'opera', 'celtic', 'tradjazz', 'acoustic', 'epicmetal',\n",
       "       'historisch', 'downbeat', 'downtempo', 'africa', 'audiobook',\n",
       "       'jewish', 'sängerportrait', 'deutschrock', 'eastern', 'action',\n",
       "       'future', 'electropop', 'folklore', 'bollywood', 'marschmusik',\n",
       "       'rnr', 'karaoke', 'indian', 'rancheras', 'afrikaans', 'rhythm',\n",
       "       'sound', 'deutschspr', 'trip', 'lovers', 'choral', 'dancepop',\n",
       "       'retro', 'smooth', 'mexican', 'brazilian', 'ïîï', 'mood', 'surf',\n",
       "       'gangsta', 'inspirational', 'idm', 'ethnic', 'bluegrass',\n",
       "       'broadway', 'animated', 'americana', 'karadeniz', 'rockabilly',\n",
       "       'colombian', 'self', 'sertanejo', 'japanese', 'canzone', 'lounge',\n",
       "       'sport', 'ragga', 'traditional', 'gitarre', 'frankreich', 'emo',\n",
       "       'laiko', 'cantopop', 'glitch', 'documentary', 'oceania',\n",
       "       'popeurodance', 'dark', 'vi', 'grunge', 'hardstyle', 'samba',\n",
       "       'garage', 'art', 'folktronica', 'entehno', 'mediterranean',\n",
       "       'chamber', 'cuban', 'taraftar', 'gypsy', 'hardtechno',\n",
       "       'shoegazing', 'bossa', 'latino', 'worldbeat', 'malaysian', 'baile',\n",
       "       'ghazal', 'arabic', 'popelectronic', 'acid', 'kayokyoku',\n",
       "       'neoklassik', 'tribal', 'tanzorchester', 'native', 'independent',\n",
       "       'cantautori', 'handsup', 'punjabi', 'synthpop', 'rave',\n",
       "       'französisch', 'quebecois', 'speech', 'soulful', 'jam', 'ram',\n",
       "       'horror', 'orchestral', 'neue', 'roots', 'slow', 'jungle',\n",
       "       'indipop', 'axé', 'fado', 'showtunes', 'arena', 'irish',\n",
       "       'mandopop', 'forró', 'dirty', 'regional'], dtype=object)"
      ]
     },
     "execution_count": 38,
     "metadata": {},
     "output_type": "execute_result"
    }
   ],
   "source": [
    "df['genre'].unique()"
   ]
  },
  {
   "cell_type": "markdown",
   "metadata": {
    "id": "ALgNbvF3VtPA"
   },
   "source": [
    "[Volver a Contenidos](#back)"
   ]
  },
  {
   "cell_type": "markdown",
   "metadata": {
    "id": "jz6a9-7HQUDd"
   },
   "source": [
    "### Tus observaciones <a id='data_preprocessing_conclusions'></a>\n",
    "\n",
    "Para arreglar los errores de duplicado en la columna 'genre', creé una función llamada replace_wrong_genres que toma una lista de estos nombres incorrectos y los reemplaza por uno correcto.\n",
    "\n",
    "Usé esta función para cambiar todas las variaciones de 'hip', 'hop', y 'hip-hop' a 'hiphop', para que la columna estuviera organizada. \n"
   ]
  },
  {
   "cell_type": "markdown",
   "metadata": {
    "id": "eK1es74rVujj"
   },
   "source": [
    "[Volver a Contenidos](#back)"
   ]
  },
  {
   "cell_type": "markdown",
   "metadata": {
    "id": "WttZHXH0SqKk"
   },
   "source": [
    "## Etapa 3. Prueba de hipótesis <a id='hypothesis'></a>"
   ]
  },
  {
   "cell_type": "markdown",
   "metadata": {
    "id": "Im936VVi_Zcu"
   },
   "source": [
    "### Hipótesis: comparar el comportamiento del usuario o la usuaria en las dos ciudades <a id='activity'></a>"
   ]
  },
  {
   "cell_type": "markdown",
   "metadata": {
    "id": "nwt_MuaL_Zcu"
   },
   "source": [
    "La hipótesis afirma que existen diferencias en la forma en que los usuarios y las usuarias de Springfield y Shelbyville consumen música. Para comprobar esto, usa los datos de tres días de la semana: lunes, miércoles y viernes.\n",
    "\n",
    "* Agrupa a los usuarios y las usuarias por ciudad.\n",
    "* Compara el número de canciones que cada grupo reprodujo el lunes, el miércoles y el viernes.\n"
   ]
  },
  {
   "cell_type": "markdown",
   "metadata": {
    "id": "8Dw_YMmT_Zcu"
   },
   "source": [
    "Realiza cada cálculo por separado.\n",
    "\n",
    "El primer paso es evaluar la actividad del usuario en cada ciudad. Recuerda las etapas dividir-aplicar-combinar de las que hablamos anteriormente en la lección. Tu objetivo ahora es agrupar los datos por ciudad, aplicar el método apropiado para contar durante la etapa de aplicación y luego encontrar la cantidad de canciones reproducidas en cada grupo especificando la columna para obtener el recuento.\n",
    "\n",
    "A continuación se muestra un ejemplo de cómo debería verse el resultado final:\n",
    "`df.groupby(by='....')['column'].method()`Realiza cada cálculo por separado.\n",
    "\n",
    "Para evaluar la actividad de los usuarios y las usuarias en cada ciudad, agrupa los datos por ciudad y encuentra la cantidad de canciones reproducidas en cada grupo.\n",
    "\n"
   ]
  },
  {
   "cell_type": "code",
   "execution_count": 40,
   "metadata": {
    "id": "0_Qs96oh_Zcu"
   },
   "outputs": [
    {
     "data": {
      "text/html": [
       "<div>\n",
       "<style scoped>\n",
       "    .dataframe tbody tr th:only-of-type {\n",
       "        vertical-align: middle;\n",
       "    }\n",
       "\n",
       "    .dataframe tbody tr th {\n",
       "        vertical-align: top;\n",
       "    }\n",
       "\n",
       "    .dataframe thead th {\n",
       "        text-align: right;\n",
       "    }\n",
       "</style>\n",
       "<table border=\"1\" class=\"dataframe\">\n",
       "  <thead>\n",
       "    <tr style=\"text-align: right;\">\n",
       "      <th></th>\n",
       "      <th>user_id</th>\n",
       "      <th>track</th>\n",
       "      <th>artist</th>\n",
       "      <th>genre</th>\n",
       "      <th>time</th>\n",
       "      <th>day</th>\n",
       "    </tr>\n",
       "    <tr>\n",
       "      <th>city</th>\n",
       "      <th></th>\n",
       "      <th></th>\n",
       "      <th></th>\n",
       "      <th></th>\n",
       "      <th></th>\n",
       "      <th></th>\n",
       "    </tr>\n",
       "  </thead>\n",
       "  <tbody>\n",
       "    <tr>\n",
       "      <th>Shelbyville</th>\n",
       "      <td>18512</td>\n",
       "      <td>18512</td>\n",
       "      <td>18512</td>\n",
       "      <td>18512</td>\n",
       "      <td>18512</td>\n",
       "      <td>18512</td>\n",
       "    </tr>\n",
       "    <tr>\n",
       "      <th>Springfield</th>\n",
       "      <td>42741</td>\n",
       "      <td>42741</td>\n",
       "      <td>42741</td>\n",
       "      <td>42741</td>\n",
       "      <td>42741</td>\n",
       "      <td>42741</td>\n",
       "    </tr>\n",
       "  </tbody>\n",
       "</table>\n",
       "</div>"
      ],
      "text/plain": [
       "             user_id  track  artist  genre   time    day\n",
       "city                                                    \n",
       "Shelbyville    18512  18512   18512  18512  18512  18512\n",
       "Springfield    42741  42741   42741  42741  42741  42741"
      ]
     },
     "execution_count": 40,
     "metadata": {},
     "output_type": "execute_result"
    }
   ],
   "source": [
    "songs_per_city = df.groupby(by='city').count()\n",
    "\n",
    "songs_per_city"
   ]
  },
  {
   "cell_type": "markdown",
   "metadata": {
    "id": "dzli3w8o_Zcu"
   },
   "source": [
    "Ahora agrupemos los datos por día de la semana y encontremos el número de canciones reproducidas el lunes, miércoles y viernes. Utiliza el mismo método que antes, pero ahora necesitamos una agrupación diferente.\n"
   ]
  },
  {
   "cell_type": "code",
   "execution_count": 41,
   "metadata": {
    "id": "uZMKjiJz_Zcu"
   },
   "outputs": [
    {
     "data": {
      "text/plain": [
       "day\n",
       "Friday       21840\n",
       "Monday       21354\n",
       "Wednesday    18059\n",
       "Name: track, dtype: int64"
      ]
     },
     "execution_count": 41,
     "metadata": {},
     "output_type": "execute_result"
    }
   ],
   "source": [
    "days_of_interest = ['Monday', 'Wednesday', 'Friday']\n",
    "day_song_counts = df[df['day'].isin(days_of_interest)].groupby('day')['track'].count()\n",
    "day_song_counts"
   ]
  },
  {
   "cell_type": "markdown",
   "metadata": {
    "id": "cC2tNrlL_Zcu"
   },
   "source": [
    "`Comenta tus observaciones aquí`"
   ]
  },
  {
   "cell_type": "markdown",
   "metadata": {
    "id": "POzs8bGa_Zcu"
   },
   "source": [
    "Ya sabes cómo contar entradas agrupándolas por ciudad o día. Ahora necesitas escribir una función que pueda contar entradas según ambos criterios simultáneamente.\n",
    "\n",
    "Crea la función `number_tracks()` para calcular el número de canciones reproducidas en un determinado día **y** ciudad. La función debe aceptar dos parámetros:\n",
    "\n",
    "- `day`: un día de la semana para filtrar. Por ejemplo, `'Monday'` (lunes).\n",
    "- `city`: una ciudad para filtrar. Por ejemplo, `'Springfield'`.\n",
    "\n",
    "Dentro de la función, aplicarás un filtrado consecutivo con indexación lógica.\n",
    "\n",
    "Primero filtra los datos por día y luego filtra la tabla resultante por ciudad.\n",
    "\n",
    "Después de filtrar los datos por dos criterios, cuenta el número de valores de la columna 'user_id' en la tabla resultante. Este recuento representa el número de entradas que estás buscando. Guarda el resultado en una nueva variable y devuélvelo desde la función."
   ]
  },
  {
   "cell_type": "code",
   "execution_count": 46,
   "metadata": {
    "id": "Nz3GdQB1_Zcu"
   },
   "outputs": [],
   "source": [
    "def number_tracks(day, city):\n",
    "    \n",
    "    day = df[df['day'] == day]\n",
    "    \n",
    "    city = day[day['city'] == city]\n",
    "    \n",
    "    return city['user_id'].count()"
   ]
  },
  {
   "cell_type": "markdown",
   "metadata": {
    "id": "ytf7xFrFJQ2r"
   },
   "source": [
    "Llama a `number_tracks()` seis veces, cambiando los valores de los parámetros para que recuperes los datos de ambas ciudades para cada uno de los tres días."
   ]
  },
  {
   "cell_type": "code",
   "execution_count": 47,
   "metadata": {
    "id": "rJcRATNQ_Zcu"
   },
   "outputs": [
    {
     "data": {
      "text/plain": [
       "15740"
      ]
     },
     "execution_count": 47,
     "metadata": {},
     "output_type": "execute_result"
    }
   ],
   "source": [
    "total = number_tracks('Monday','Springfield')\n",
    "total"
   ]
  },
  {
   "cell_type": "code",
   "execution_count": 49,
   "metadata": {
    "id": "hq_ncZ5T_Zcu"
   },
   "outputs": [
    {
     "data": {
      "text/plain": [
       "5614"
      ]
     },
     "execution_count": 49,
     "metadata": {},
     "output_type": "execute_result"
    }
   ],
   "source": [
    "total = number_tracks('Monday', 'Shelbyville')\n",
    "total"
   ]
  },
  {
   "cell_type": "code",
   "execution_count": 50,
   "metadata": {
    "id": "_NTy2VPU_Zcu"
   },
   "outputs": [
    {
     "data": {
      "text/plain": [
       "11056"
      ]
     },
     "execution_count": 50,
     "metadata": {},
     "output_type": "execute_result"
    }
   ],
   "source": [
    "total = number_tracks('Wednesday','Springfield')\n",
    "total"
   ]
  },
  {
   "cell_type": "code",
   "execution_count": 51,
   "metadata": {
    "id": "j2y3TAwo_Zcu"
   },
   "outputs": [
    {
     "data": {
      "text/plain": [
       "7003"
      ]
     },
     "execution_count": 51,
     "metadata": {},
     "output_type": "execute_result"
    }
   ],
   "source": [
    "total = number_tracks('Wednesday', 'Shelbyville')\n",
    "total"
   ]
  },
  {
   "cell_type": "code",
   "execution_count": 52,
   "metadata": {
    "id": "vYDw5u_K_Zcu"
   },
   "outputs": [
    {
     "data": {
      "text/plain": [
       "15945"
      ]
     },
     "execution_count": 52,
     "metadata": {},
     "output_type": "execute_result"
    }
   ],
   "source": [
    "total = number_tracks('Friday','Springfield')\n",
    "total"
   ]
  },
  {
   "cell_type": "code",
   "execution_count": 53,
   "metadata": {
    "id": "8_yzFtW3_Zcu"
   },
   "outputs": [
    {
     "data": {
      "text/plain": [
       "5895"
      ]
     },
     "execution_count": 53,
     "metadata": {},
     "output_type": "execute_result"
    }
   ],
   "source": [
    "total = number_tracks('Friday', 'Shelbyville')\n",
    "total"
   ]
  },
  {
   "cell_type": "markdown",
   "metadata": {
    "id": "-EgPIHYu_Zcu"
   },
   "source": [
    "**Conclusiones**\n",
    "\n",
    "La hipótesis de que \"la actividad de los usuarios y las usuarias difiere según el día de la semana y dependiendo de la ciudad\" es correcta. Tomando en cuenta los datos previos, muestra que hay diferencias en la actividad de los usuarios a lo largo de la semana en ambas ciudades."
   ]
  },
  {
   "cell_type": "markdown",
   "metadata": {
    "id": "p7nFQajCVw5B"
   },
   "source": [
    "[Volver a Contenidos](#back)"
   ]
  },
  {
   "cell_type": "markdown",
   "metadata": {
    "id": "ykKQ0N65_Zcv"
   },
   "source": [
    "# Conclusiones <a id='end'></a>"
   ]
  },
  {
   "cell_type": "markdown",
   "metadata": {
    "id": "tjUwbHb3_Zcv"
   },
   "source": [
    "En nuestra análisis, observamos que la cantidad de canciones reproducidas en Springfield y Shelbyville varía significativamente entre lunes, miércoles y viernes. Además, Springfield consistentemente tiene más reproducciones que Shelbyville en todos los días analizados. Esto demuestra que la actividad de los usuarios no solo cambia a lo largo de la semana, sino que también depende de la ciudad en la que se encuentran. Por lo tanto, podemos confirmar que la actividad de los usuarios y usuarias difiere tanto por el día de la semana como por la ciudad."
   ]
  },
  {
   "cell_type": "markdown",
   "metadata": {
    "id": "Ju4AHDSgV1FE"
   },
   "source": [
    "[Volver a Contenidos](#back)"
   ]
  }
 ],
 "metadata": {
  "ExecuteTimeLog": [
   {
    "duration": 518,
    "start_time": "2024-06-13T23:00:57.305Z"
   },
   {
    "duration": 1115,
    "start_time": "2024-06-13T23:03:39.795Z"
   },
   {
    "duration": 199,
    "start_time": "2024-06-13T23:03:55.952Z"
   },
   {
    "duration": 41,
    "start_time": "2024-06-13T23:08:52.865Z"
   },
   {
    "duration": 27,
    "start_time": "2024-06-13T23:13:24.533Z"
   },
   {
    "duration": 16,
    "start_time": "2024-06-13T23:20:11.194Z"
   },
   {
    "duration": 56,
    "start_time": "2024-06-13T23:20:16.972Z"
   },
   {
    "duration": 22,
    "start_time": "2024-06-13T23:37:19.176Z"
   },
   {
    "duration": 31,
    "start_time": "2024-06-13T23:39:35.634Z"
   },
   {
    "duration": 4,
    "start_time": "2024-06-13T23:49:22.716Z"
   },
   {
    "duration": 15,
    "start_time": "2024-06-13T23:49:52.906Z"
   },
   {
    "duration": 18,
    "start_time": "2024-06-13T23:50:05.809Z"
   },
   {
    "duration": 26,
    "start_time": "2024-06-13T23:50:56.346Z"
   },
   {
    "duration": 34,
    "start_time": "2024-06-13T23:51:43.845Z"
   },
   {
    "duration": 4,
    "start_time": "2024-06-13T23:52:17.515Z"
   },
   {
    "duration": 34,
    "start_time": "2024-06-13T23:52:36.803Z"
   },
   {
    "duration": 39,
    "start_time": "2024-06-13T23:53:47.182Z"
   },
   {
    "duration": 33,
    "start_time": "2024-06-13T23:54:07.229Z"
   },
   {
    "duration": 31,
    "start_time": "2024-06-13T23:56:47.195Z"
   },
   {
    "duration": 28,
    "start_time": "2024-06-13T23:58:24.673Z"
   },
   {
    "duration": 7,
    "start_time": "2024-06-14T00:03:37.405Z"
   },
   {
    "duration": 5,
    "start_time": "2024-06-14T00:04:01.302Z"
   },
   {
    "duration": 7,
    "start_time": "2024-06-14T00:05:06.184Z"
   },
   {
    "duration": 5,
    "start_time": "2024-06-14T00:06:11.482Z"
   },
   {
    "duration": 6,
    "start_time": "2024-06-14T00:08:37.080Z"
   },
   {
    "duration": 7,
    "start_time": "2024-06-14T00:08:57.433Z"
   },
   {
    "duration": 16,
    "start_time": "2024-06-14T00:09:05.206Z"
   },
   {
    "duration": 28,
    "start_time": "2024-06-14T00:12:03.459Z"
   },
   {
    "duration": 24,
    "start_time": "2024-06-14T00:13:18.523Z"
   },
   {
    "duration": 24,
    "start_time": "2024-06-14T00:13:22.630Z"
   },
   {
    "duration": 28,
    "start_time": "2024-06-14T00:13:39.031Z"
   },
   {
    "duration": 27,
    "start_time": "2024-06-14T00:13:58.096Z"
   },
   {
    "duration": 85,
    "start_time": "2024-06-14T00:15:19.440Z"
   },
   {
    "duration": 89,
    "start_time": "2024-06-14T00:17:46.286Z"
   },
   {
    "duration": 79,
    "start_time": "2024-06-14T00:17:52.138Z"
   },
   {
    "duration": 102,
    "start_time": "2024-06-14T00:18:02.822Z"
   },
   {
    "duration": 8166,
    "start_time": "2024-06-14T00:18:41.929Z"
   },
   {
    "duration": 67,
    "start_time": "2024-06-14T00:19:40.982Z"
   },
   {
    "duration": 6,
    "start_time": "2024-06-14T00:21:55.498Z"
   },
   {
    "duration": 12,
    "start_time": "2024-06-14T15:26:00.330Z"
   },
   {
    "duration": 315,
    "start_time": "2024-06-14T15:26:10.882Z"
   },
   {
    "duration": 23,
    "start_time": "2024-06-14T15:26:20.276Z"
   },
   {
    "duration": 629,
    "start_time": "2024-06-14T15:47:32.852Z"
   },
   {
    "duration": 164,
    "start_time": "2024-06-14T15:47:37.818Z"
   },
   {
    "duration": 148,
    "start_time": "2024-06-14T15:48:23.561Z"
   },
   {
    "duration": 153,
    "start_time": "2024-06-14T15:48:36.112Z"
   },
   {
    "duration": 151,
    "start_time": "2024-06-14T15:48:37.768Z"
   },
   {
    "duration": 161,
    "start_time": "2024-06-14T15:48:57.441Z"
   },
   {
    "duration": 4,
    "start_time": "2024-06-14T15:55:59.955Z"
   },
   {
    "duration": 5,
    "start_time": "2024-06-14T15:56:03.388Z"
   },
   {
    "duration": 10,
    "start_time": "2024-06-14T15:56:09.607Z"
   },
   {
    "duration": 70,
    "start_time": "2024-06-14T16:05:53.783Z"
   },
   {
    "duration": 170,
    "start_time": "2024-06-14T16:20:42.949Z"
   },
   {
    "duration": 18,
    "start_time": "2024-06-14T16:21:40.630Z"
   },
   {
    "duration": 19,
    "start_time": "2024-06-14T16:22:56.578Z"
   },
   {
    "duration": 157,
    "start_time": "2024-06-14T16:23:58.136Z"
   },
   {
    "duration": 23,
    "start_time": "2024-06-14T16:36:37.232Z"
   },
   {
    "duration": 24,
    "start_time": "2024-06-14T16:36:49.584Z"
   },
   {
    "duration": 21,
    "start_time": "2024-06-14T16:37:37.741Z"
   },
   {
    "duration": 906,
    "start_time": "2024-06-14T16:38:41.181Z"
   },
   {
    "duration": 208,
    "start_time": "2024-06-14T16:41:42.505Z"
   },
   {
    "duration": 229,
    "start_time": "2024-06-14T16:42:27.134Z"
   },
   {
    "duration": 205,
    "start_time": "2024-06-14T16:42:35.748Z"
   },
   {
    "duration": 208,
    "start_time": "2024-06-14T16:42:38.756Z"
   },
   {
    "duration": 214,
    "start_time": "2024-06-14T16:43:44.726Z"
   },
   {
    "duration": 213,
    "start_time": "2024-06-14T16:45:25.350Z"
   },
   {
    "duration": 83,
    "start_time": "2024-06-14T16:53:06.232Z"
   },
   {
    "duration": 87,
    "start_time": "2024-06-14T16:54:07.265Z"
   },
   {
    "duration": 86,
    "start_time": "2024-06-14T16:54:25.062Z"
   },
   {
    "duration": 154,
    "start_time": "2024-06-14T17:49:39.797Z"
   },
   {
    "duration": 81,
    "start_time": "2024-06-14T17:53:22.364Z"
   },
   {
    "duration": 19,
    "start_time": "2024-06-14T17:54:34.387Z"
   },
   {
    "duration": 86,
    "start_time": "2024-06-14T18:03:51.770Z"
   },
   {
    "duration": 84,
    "start_time": "2024-06-14T18:56:38.821Z"
   },
   {
    "duration": 92,
    "start_time": "2024-06-14T18:56:47.120Z"
   },
   {
    "duration": 91,
    "start_time": "2024-06-14T18:58:20.749Z"
   },
   {
    "duration": 348,
    "start_time": "2024-06-16T18:19:33.863Z"
   },
   {
    "duration": 25,
    "start_time": "2024-06-16T18:20:32.835Z"
   },
   {
    "duration": 30,
    "start_time": "2024-06-16T18:21:27.457Z"
   },
   {
    "duration": 25,
    "start_time": "2024-06-16T18:22:44.340Z"
   },
   {
    "duration": 622,
    "start_time": "2024-06-16T18:23:30.486Z"
   },
   {
    "duration": 987,
    "start_time": "2024-06-16T18:24:38.956Z"
   },
   {
    "duration": 10,
    "start_time": "2024-06-16T18:28:53.550Z"
   },
   {
    "duration": 6,
    "start_time": "2024-06-16T18:29:25.819Z"
   },
   {
    "duration": 21,
    "start_time": "2024-06-16T18:30:56.688Z"
   },
   {
    "duration": 145,
    "start_time": "2024-06-16T18:31:36.164Z"
   },
   {
    "duration": 164,
    "start_time": "2024-06-16T18:33:28.030Z"
   },
   {
    "duration": 221,
    "start_time": "2024-06-16T18:41:42.626Z"
   },
   {
    "duration": 164,
    "start_time": "2024-06-16T18:41:58.155Z"
   },
   {
    "duration": 6,
    "start_time": "2024-06-16T18:42:05.942Z"
   },
   {
    "duration": 6,
    "start_time": "2024-06-16T18:42:09.783Z"
   },
   {
    "duration": 33,
    "start_time": "2024-06-16T18:42:12.336Z"
   },
   {
    "duration": 34,
    "start_time": "2024-06-16T18:42:15.670Z"
   },
   {
    "duration": 31,
    "start_time": "2024-06-16T18:42:20.115Z"
   },
   {
    "duration": 16,
    "start_time": "2024-06-16T18:42:27.413Z"
   },
   {
    "duration": 15,
    "start_time": "2024-06-16T18:42:32.996Z"
   },
   {
    "duration": 29,
    "start_time": "2024-06-16T18:42:35.784Z"
   },
   {
    "duration": 76,
    "start_time": "2024-06-16T18:42:45.853Z"
   },
   {
    "duration": 78,
    "start_time": "2024-06-16T18:42:51.255Z"
   },
   {
    "duration": 31,
    "start_time": "2024-06-16T18:43:16.479Z"
   },
   {
    "duration": 32,
    "start_time": "2024-06-16T18:43:28.256Z"
   },
   {
    "duration": 70,
    "start_time": "2024-06-16T18:43:42.397Z"
   },
   {
    "duration": 87,
    "start_time": "2024-06-16T18:46:28.717Z"
   },
   {
    "duration": 73,
    "start_time": "2024-06-16T18:46:33.616Z"
   },
   {
    "duration": 90,
    "start_time": "2024-06-16T18:46:57.678Z"
   },
   {
    "duration": 75,
    "start_time": "2024-06-16T18:47:06.671Z"
   },
   {
    "duration": 86,
    "start_time": "2024-06-16T18:48:02.542Z"
   },
   {
    "duration": 87,
    "start_time": "2024-06-16T18:48:30.438Z"
   },
   {
    "duration": 163,
    "start_time": "2024-06-16T18:49:20.484Z"
   },
   {
    "duration": 37,
    "start_time": "2024-06-16T18:49:55.388Z"
   },
   {
    "duration": 23,
    "start_time": "2024-06-16T18:50:14.732Z"
   },
   {
    "duration": 21,
    "start_time": "2024-06-16T18:50:21.894Z"
   },
   {
    "duration": 24,
    "start_time": "2024-06-16T18:50:43.963Z"
   },
   {
    "duration": 21,
    "start_time": "2024-06-16T18:51:10.558Z"
   },
   {
    "duration": 23,
    "start_time": "2024-06-16T18:51:17.330Z"
   },
   {
    "duration": 187,
    "start_time": "2024-06-16T18:52:01.871Z"
   },
   {
    "duration": 7,
    "start_time": "2024-06-16T18:52:06.040Z"
   },
   {
    "duration": 6,
    "start_time": "2024-06-16T18:52:08.550Z"
   },
   {
    "duration": 35,
    "start_time": "2024-06-16T18:52:10.406Z"
   },
   {
    "duration": 38,
    "start_time": "2024-06-16T18:52:13.867Z"
   },
   {
    "duration": 30,
    "start_time": "2024-06-16T18:52:18.116Z"
   },
   {
    "duration": 32,
    "start_time": "2024-06-16T18:52:21.090Z"
   },
   {
    "duration": 29,
    "start_time": "2024-06-16T18:52:24.126Z"
   },
   {
    "duration": 75,
    "start_time": "2024-06-16T18:52:27.763Z"
   },
   {
    "duration": 94,
    "start_time": "2024-06-16T18:52:30.631Z"
   },
   {
    "duration": 79,
    "start_time": "2024-06-16T18:52:34.822Z"
   },
   {
    "duration": 93,
    "start_time": "2024-06-16T18:52:40.082Z"
   },
   {
    "duration": 73,
    "start_time": "2024-06-16T18:52:43.998Z"
   },
   {
    "duration": 90,
    "start_time": "2024-06-16T18:52:51.643Z"
   },
   {
    "duration": 72,
    "start_time": "2024-06-16T18:52:55.909Z"
   },
   {
    "duration": 184,
    "start_time": "2024-06-16T18:53:01.092Z"
   },
   {
    "duration": 36,
    "start_time": "2024-06-16T18:53:21.277Z"
   },
   {
    "duration": 34,
    "start_time": "2024-06-16T18:54:49.212Z"
   },
   {
    "duration": 184,
    "start_time": "2024-06-16T18:56:09.702Z"
   },
   {
    "duration": 17,
    "start_time": "2024-06-16T18:56:18.052Z"
   },
   {
    "duration": 167,
    "start_time": "2024-06-16T18:56:38.336Z"
   },
   {
    "duration": 34,
    "start_time": "2024-06-16T18:57:09.132Z"
   },
   {
    "duration": 166,
    "start_time": "2024-06-16T18:57:18.432Z"
   },
   {
    "duration": 16,
    "start_time": "2024-06-16T18:57:25.496Z"
   },
   {
    "duration": 169,
    "start_time": "2024-06-16T18:57:57.629Z"
   },
   {
    "duration": 40,
    "start_time": "2024-06-16T18:58:07.381Z"
   },
   {
    "duration": 169,
    "start_time": "2024-06-16T18:58:15.658Z"
   },
   {
    "duration": 17,
    "start_time": "2024-06-16T18:58:58.095Z"
   },
   {
    "duration": 199,
    "start_time": "2024-06-16T18:59:16.144Z"
   },
   {
    "duration": 22,
    "start_time": "2024-06-16T19:00:36.155Z"
   },
   {
    "duration": 15,
    "start_time": "2024-06-16T19:01:35.862Z"
   },
   {
    "duration": 25,
    "start_time": "2024-06-16T19:02:39.927Z"
   },
   {
    "duration": 231,
    "start_time": "2024-06-16T19:03:25.105Z"
   },
   {
    "duration": 258,
    "start_time": "2024-06-16T19:03:28.438Z"
   },
   {
    "duration": 7,
    "start_time": "2024-06-16T19:05:36.417Z"
   },
   {
    "duration": 229,
    "start_time": "2024-06-16T19:05:54.558Z"
   },
   {
    "duration": 230,
    "start_time": "2024-06-16T19:06:39.341Z"
   },
   {
    "duration": 238,
    "start_time": "2024-06-16T19:07:10.321Z"
   },
   {
    "duration": 228,
    "start_time": "2024-06-16T19:08:14.972Z"
   },
   {
    "duration": 243,
    "start_time": "2024-06-16T19:10:07.341Z"
   },
   {
    "duration": 151,
    "start_time": "2024-06-16T19:10:18.210Z"
   },
   {
    "duration": 174,
    "start_time": "2024-06-16T19:11:00.585Z"
   },
   {
    "duration": 212,
    "start_time": "2024-06-16T19:14:02.718Z"
   },
   {
    "duration": 82,
    "start_time": "2024-06-16T19:19:36.382Z"
   },
   {
    "duration": 44,
    "start_time": "2024-06-16T19:19:49.252Z"
   },
   {
    "duration": 4,
    "start_time": "2024-06-16T19:31:05.851Z"
   },
   {
    "duration": 4,
    "start_time": "2024-06-16T19:31:11.780Z"
   },
   {
    "duration": 4,
    "start_time": "2024-06-16T19:32:00.256Z"
   },
   {
    "duration": 26,
    "start_time": "2024-06-16T19:32:54.338Z"
   },
   {
    "duration": 587,
    "start_time": "2024-06-16T19:33:40.237Z"
   },
   {
    "duration": 188,
    "start_time": "2024-06-16T19:34:32.498Z"
   },
   {
    "duration": 46,
    "start_time": "2024-06-16T19:34:42.667Z"
   },
   {
    "duration": 110,
    "start_time": "2024-06-16T19:37:27.338Z"
   },
   {
    "duration": 102,
    "start_time": "2024-06-16T19:37:34.436Z"
   },
   {
    "duration": 312,
    "start_time": "2024-06-16T19:38:27.283Z"
   },
   {
    "duration": 294,
    "start_time": "2024-06-16T19:39:37.398Z"
   },
   {
    "duration": 282,
    "start_time": "2024-06-16T19:40:02.643Z"
   },
   {
    "duration": 246,
    "start_time": "2024-06-16T19:40:18.129Z"
   },
   {
    "duration": 243,
    "start_time": "2024-06-16T19:40:21.687Z"
   },
   {
    "duration": 88,
    "start_time": "2024-06-16T19:40:33.999Z"
   },
   {
    "duration": 287,
    "start_time": "2024-06-16T19:43:48.682Z"
   },
   {
    "duration": 278,
    "start_time": "2024-06-16T19:44:52.105Z"
   },
   {
    "duration": 159,
    "start_time": "2024-06-16T19:48:48.592Z"
   },
   {
    "duration": 286,
    "start_time": "2024-06-16T19:49:36.198Z"
   },
   {
    "duration": 205,
    "start_time": "2024-06-16T19:51:35.520Z"
   },
   {
    "duration": 55,
    "start_time": "2024-06-16T19:51:38.616Z"
   },
   {
    "duration": 162,
    "start_time": "2024-06-16T19:52:25.115Z"
   },
   {
    "duration": 56,
    "start_time": "2024-06-16T19:52:52.966Z"
   },
   {
    "duration": 111,
    "start_time": "2024-06-16T19:57:21.958Z"
   },
   {
    "duration": 113,
    "start_time": "2024-06-16T19:57:31.682Z"
   },
   {
    "duration": 129,
    "start_time": "2024-06-16T19:58:06.043Z"
   },
   {
    "duration": 397,
    "start_time": "2024-06-16T20:01:06.668Z"
   },
   {
    "duration": 200,
    "start_time": "2024-06-16T20:02:36.158Z"
   },
   {
    "duration": 182,
    "start_time": "2024-06-16T20:04:16.696Z"
   },
   {
    "duration": 186,
    "start_time": "2024-06-16T20:04:28.437Z"
   },
   {
    "duration": 16,
    "start_time": "2024-06-16T20:04:32.615Z"
   },
   {
    "duration": 5,
    "start_time": "2024-06-16T20:12:31.748Z"
   },
   {
    "duration": 4,
    "start_time": "2024-06-16T20:12:35.256Z"
   },
   {
    "duration": 3,
    "start_time": "2024-06-16T20:13:27.265Z"
   },
   {
    "duration": 3,
    "start_time": "2024-06-16T20:13:29.872Z"
   },
   {
    "duration": 163,
    "start_time": "2024-06-16T20:13:33.067Z"
   },
   {
    "duration": 15,
    "start_time": "2024-06-16T20:13:35.434Z"
   },
   {
    "duration": 19,
    "start_time": "2024-06-16T20:13:53.489Z"
   },
   {
    "duration": 5,
    "start_time": "2024-06-16T20:14:03.337Z"
   },
   {
    "duration": 25,
    "start_time": "2024-06-16T20:14:21.678Z"
   },
   {
    "duration": 4,
    "start_time": "2024-06-16T20:14:59.012Z"
   },
   {
    "duration": 58,
    "start_time": "2024-06-16T20:18:12.098Z"
   },
   {
    "duration": 70,
    "start_time": "2024-06-16T20:18:31.976Z"
   },
   {
    "duration": 305,
    "start_time": "2024-06-16T20:22:59.557Z"
   },
   {
    "duration": 536,
    "start_time": "2024-06-18T23:21:15.172Z"
   },
   {
    "duration": 3,
    "start_time": "2024-06-18T23:29:38.976Z"
   },
   {
    "duration": 237,
    "start_time": "2024-06-18T23:29:42.060Z"
   },
   {
    "duration": 24,
    "start_time": "2024-06-18T23:29:44.882Z"
   },
   {
    "duration": 258,
    "start_time": "2024-06-18T23:29:49.423Z"
   },
   {
    "duration": 220,
    "start_time": "2024-06-18T23:29:57.534Z"
   },
   {
    "duration": 12,
    "start_time": "2024-06-18T23:30:01.436Z"
   },
   {
    "duration": 6,
    "start_time": "2024-06-18T23:30:06.015Z"
   },
   {
    "duration": 35,
    "start_time": "2024-06-18T23:30:10.268Z"
   },
   {
    "duration": 43,
    "start_time": "2024-06-18T23:30:15.457Z"
   },
   {
    "duration": 37,
    "start_time": "2024-06-18T23:30:20.397Z"
   },
   {
    "duration": 31,
    "start_time": "2024-06-18T23:30:26.785Z"
   },
   {
    "duration": 29,
    "start_time": "2024-06-18T23:30:31.829Z"
   },
   {
    "duration": 76,
    "start_time": "2024-06-18T23:30:37.299Z"
   },
   {
    "duration": 110,
    "start_time": "2024-06-18T23:30:40.578Z"
   },
   {
    "duration": 80,
    "start_time": "2024-06-18T23:30:45.409Z"
   },
   {
    "duration": 167,
    "start_time": "2024-06-18T23:30:48.640Z"
   },
   {
    "duration": 168,
    "start_time": "2024-06-18T23:31:34.985Z"
   },
   {
    "duration": 22,
    "start_time": "2024-06-18T23:32:42.325Z"
   },
   {
    "duration": 15,
    "start_time": "2024-06-18T23:32:53.403Z"
   },
   {
    "duration": 346,
    "start_time": "2024-06-18T23:33:17.328Z"
   },
   {
    "duration": 29,
    "start_time": "2024-06-18T23:33:39.643Z"
   },
   {
    "duration": 25,
    "start_time": "2024-06-18T23:35:28.429Z"
   },
   {
    "duration": 26,
    "start_time": "2024-06-18T23:37:33.182Z"
   },
   {
    "duration": 917,
    "start_time": "2024-06-18T23:41:48.587Z"
   },
   {
    "duration": 251,
    "start_time": "2024-06-18T23:41:59.035Z"
   },
   {
    "duration": 83,
    "start_time": "2024-06-18T23:47:18.639Z"
   },
   {
    "duration": 24,
    "start_time": "2024-06-18T23:50:50.459Z"
   },
   {
    "duration": 27,
    "start_time": "2024-06-18T23:50:56.865Z"
   },
   {
    "duration": 12,
    "start_time": "2024-06-18T23:51:03.838Z"
   },
   {
    "duration": 26,
    "start_time": "2024-06-18T23:51:09.527Z"
   },
   {
    "duration": 27,
    "start_time": "2024-06-18T23:51:29.977Z"
   },
   {
    "duration": 20,
    "start_time": "2024-06-19T00:01:54.205Z"
   },
   {
    "duration": 25,
    "start_time": "2024-06-19T00:03:53.277Z"
   },
   {
    "duration": 174,
    "start_time": "2024-06-19T00:08:28.895Z"
   },
   {
    "duration": 15,
    "start_time": "2024-06-19T00:08:34.901Z"
   },
   {
    "duration": 45,
    "start_time": "2024-06-19T00:08:37.796Z"
   },
   {
    "duration": 15,
    "start_time": "2024-06-19T00:08:51.764Z"
   },
   {
    "duration": 7,
    "start_time": "2024-06-19T00:08:56.144Z"
   },
   {
    "duration": 7,
    "start_time": "2024-06-19T00:08:58.574Z"
   },
   {
    "duration": 54,
    "start_time": "2024-06-19T00:09:02.012Z"
   },
   {
    "duration": 36,
    "start_time": "2024-06-19T00:09:04.935Z"
   },
   {
    "duration": 39,
    "start_time": "2024-06-19T00:09:08.414Z"
   },
   {
    "duration": 39,
    "start_time": "2024-06-19T00:09:12.019Z"
   },
   {
    "duration": 37,
    "start_time": "2024-06-19T00:09:15.679Z"
   },
   {
    "duration": 76,
    "start_time": "2024-06-19T00:09:19.853Z"
   },
   {
    "duration": 100,
    "start_time": "2024-06-19T00:09:21.796Z"
   },
   {
    "duration": 70,
    "start_time": "2024-06-19T00:09:27.578Z"
   },
   {
    "duration": 207,
    "start_time": "2024-06-19T00:09:31.009Z"
   },
   {
    "duration": 22,
    "start_time": "2024-06-19T00:09:49.448Z"
   },
   {
    "duration": 33,
    "start_time": "2024-06-19T00:09:56.867Z"
   },
   {
    "duration": 465,
    "start_time": "2024-06-19T00:10:40.408Z"
   },
   {
    "duration": 184,
    "start_time": "2024-06-19T00:10:44.182Z"
   },
   {
    "duration": 23,
    "start_time": "2024-06-19T00:10:46.583Z"
   },
   {
    "duration": 49,
    "start_time": "2024-06-19T00:10:50.474Z"
   },
   {
    "duration": 6,
    "start_time": "2024-06-19T00:10:55.147Z"
   },
   {
    "duration": 6,
    "start_time": "2024-06-19T00:10:59.002Z"
   },
   {
    "duration": 12,
    "start_time": "2024-06-19T00:11:02.045Z"
   },
   {
    "duration": 34,
    "start_time": "2024-06-19T00:11:08.226Z"
   },
   {
    "duration": 42,
    "start_time": "2024-06-19T00:11:11.506Z"
   },
   {
    "duration": 39,
    "start_time": "2024-06-19T00:11:14.816Z"
   },
   {
    "duration": 34,
    "start_time": "2024-06-19T00:11:18.852Z"
   },
   {
    "duration": 28,
    "start_time": "2024-06-19T00:11:21.613Z"
   },
   {
    "duration": 92,
    "start_time": "2024-06-19T00:11:24.276Z"
   },
   {
    "duration": 94,
    "start_time": "2024-06-19T00:11:27.240Z"
   },
   {
    "duration": 75,
    "start_time": "2024-06-19T00:11:31.095Z"
   },
   {
    "duration": 12,
    "start_time": "2024-06-19T00:11:41.347Z"
   },
   {
    "duration": 366,
    "start_time": "2024-06-19T00:11:49.004Z"
   },
   {
    "duration": 41,
    "start_time": "2024-06-19T00:11:52.258Z"
   },
   {
    "duration": 26,
    "start_time": "2024-06-19T00:12:03.826Z"
   },
   {
    "duration": 26,
    "start_time": "2024-06-19T00:12:08.436Z"
   },
   {
    "duration": 3,
    "start_time": "2024-06-19T00:19:59.402Z"
   },
   {
    "duration": 473,
    "start_time": "2024-06-19T00:20:34.006Z"
   },
   {
    "duration": 156,
    "start_time": "2024-06-19T00:20:36.974Z"
   },
   {
    "duration": 26,
    "start_time": "2024-06-19T00:20:41.640Z"
   },
   {
    "duration": 34,
    "start_time": "2024-06-19T00:20:44.831Z"
   },
   {
    "duration": 6,
    "start_time": "2024-06-19T00:20:50.768Z"
   },
   {
    "duration": 7,
    "start_time": "2024-06-19T00:20:53.584Z"
   },
   {
    "duration": 8,
    "start_time": "2024-06-19T00:20:55.900Z"
   },
   {
    "duration": 44,
    "start_time": "2024-06-19T00:20:57.884Z"
   },
   {
    "duration": 31,
    "start_time": "2024-06-19T00:21:00.328Z"
   },
   {
    "duration": 33,
    "start_time": "2024-06-19T00:21:04.115Z"
   },
   {
    "duration": 30,
    "start_time": "2024-06-19T00:21:08.278Z"
   },
   {
    "duration": 28,
    "start_time": "2024-06-19T00:21:12.853Z"
   },
   {
    "duration": 87,
    "start_time": "2024-06-19T00:21:16.148Z"
   },
   {
    "duration": 95,
    "start_time": "2024-06-19T00:21:18.226Z"
   },
   {
    "duration": 72,
    "start_time": "2024-06-19T00:21:21.268Z"
   },
   {
    "duration": 12,
    "start_time": "2024-06-19T00:21:24.258Z"
   },
   {
    "duration": 362,
    "start_time": "2024-06-19T00:21:28.977Z"
   },
   {
    "duration": 31,
    "start_time": "2024-06-19T00:21:34.908Z"
   },
   {
    "duration": 39,
    "start_time": "2024-06-19T00:22:08.390Z"
   },
   {
    "duration": 25,
    "start_time": "2024-06-19T00:22:41.556Z"
   },
   {
    "duration": 35,
    "start_time": "2024-06-19T00:22:56.496Z"
   },
   {
    "duration": 171,
    "start_time": "2024-06-19T00:23:44.677Z"
   },
   {
    "duration": 20,
    "start_time": "2024-06-19T00:23:50.012Z"
   },
   {
    "duration": 15,
    "start_time": "2024-06-19T00:23:54.592Z"
   },
   {
    "duration": 27,
    "start_time": "2024-06-19T00:23:59.315Z"
   },
   {
    "duration": 907,
    "start_time": "2024-06-19T00:24:12.640Z"
   },
   {
    "duration": 302,
    "start_time": "2024-06-19T00:24:28.395Z"
   },
   {
    "duration": 82,
    "start_time": "2024-06-19T00:24:41.899Z"
   },
   {
    "duration": 13,
    "start_time": "2024-06-20T21:10:18.787Z"
   },
   {
    "duration": 3,
    "start_time": "2024-06-20T21:10:37.624Z"
   },
   {
    "duration": 308,
    "start_time": "2024-06-20T21:12:15.238Z"
   },
   {
    "duration": 457,
    "start_time": "2024-06-20T21:15:06.666Z"
   },
   {
    "duration": 184,
    "start_time": "2024-06-20T21:15:09.824Z"
   },
   {
    "duration": 21,
    "start_time": "2024-06-20T21:15:12.497Z"
   },
   {
    "duration": 32,
    "start_time": "2024-06-20T21:15:16.099Z"
   },
   {
    "duration": 6,
    "start_time": "2024-06-20T21:15:23.166Z"
   },
   {
    "duration": 7,
    "start_time": "2024-06-20T21:15:25.721Z"
   },
   {
    "duration": 6,
    "start_time": "2024-06-20T21:15:34.256Z"
   },
   {
    "duration": 34,
    "start_time": "2024-06-20T21:15:36.756Z"
   },
   {
    "duration": 34,
    "start_time": "2024-06-20T21:15:40.664Z"
   },
   {
    "duration": 27,
    "start_time": "2024-06-20T21:15:43.858Z"
   },
   {
    "duration": 29,
    "start_time": "2024-06-20T21:15:48.285Z"
   },
   {
    "duration": 27,
    "start_time": "2024-06-20T21:16:00.437Z"
   },
   {
    "duration": 76,
    "start_time": "2024-06-20T21:16:03.568Z"
   },
   {
    "duration": 96,
    "start_time": "2024-06-20T21:16:06.373Z"
   },
   {
    "duration": 72,
    "start_time": "2024-06-20T21:16:09.916Z"
   },
   {
    "duration": 11,
    "start_time": "2024-06-20T21:16:12.638Z"
   },
   {
    "duration": 7,
    "start_time": "2024-06-20T21:24:35.641Z"
   },
   {
    "duration": 70,
    "start_time": "2024-06-20T21:24:47.839Z"
   },
   {
    "duration": 43,
    "start_time": "2024-06-20T21:25:38.486Z"
   },
   {
    "duration": 38,
    "start_time": "2024-06-20T21:26:10.534Z"
   },
   {
    "duration": 37,
    "start_time": "2024-06-20T21:26:11.946Z"
   },
   {
    "duration": 35,
    "start_time": "2024-06-20T21:27:18.104Z"
   },
   {
    "duration": 40,
    "start_time": "2024-06-20T21:27:56.135Z"
   },
   {
    "duration": 7,
    "start_time": "2024-06-20T21:28:26.679Z"
   },
   {
    "duration": 50,
    "start_time": "2024-06-20T21:28:36.672Z"
   },
   {
    "duration": 38,
    "start_time": "2024-06-20T21:29:40.446Z"
   },
   {
    "duration": 26,
    "start_time": "2024-06-20T21:30:58.460Z"
   },
   {
    "duration": 38,
    "start_time": "2024-06-20T21:31:39.959Z"
   },
   {
    "duration": 8,
    "start_time": "2024-06-20T21:33:36.695Z"
   },
   {
    "duration": 36,
    "start_time": "2024-06-20T21:34:10.680Z"
   },
   {
    "duration": 38,
    "start_time": "2024-06-20T21:35:46.107Z"
   },
   {
    "duration": 27,
    "start_time": "2024-06-20T21:37:51.014Z"
   },
   {
    "duration": 35,
    "start_time": "2024-06-20T21:38:00.347Z"
   },
   {
    "duration": 45,
    "start_time": "2024-06-20T21:38:13.778Z"
   },
   {
    "duration": 34,
    "start_time": "2024-06-20T21:40:59.074Z"
   },
   {
    "duration": 40,
    "start_time": "2024-06-20T21:44:21.928Z"
   },
   {
    "duration": 37,
    "start_time": "2024-06-20T21:44:36.473Z"
   },
   {
    "duration": 7,
    "start_time": "2024-06-20T21:48:47.124Z"
   },
   {
    "duration": 28,
    "start_time": "2024-06-20T21:49:28.412Z"
   },
   {
    "duration": 6,
    "start_time": "2024-06-20T21:50:08.460Z"
   },
   {
    "duration": 73,
    "start_time": "2024-06-20T21:50:17.944Z"
   },
   {
    "duration": 25,
    "start_time": "2024-06-20T21:50:37.600Z"
   },
   {
    "duration": 23,
    "start_time": "2024-06-20T21:50:45.661Z"
   },
   {
    "duration": 40,
    "start_time": "2024-06-20T21:50:56.254Z"
   },
   {
    "duration": 21,
    "start_time": "2024-06-20T21:52:09.739Z"
   },
   {
    "duration": 468,
    "start_time": "2024-06-20T21:54:45.158Z"
   },
   {
    "duration": 155,
    "start_time": "2024-06-20T21:54:49.998Z"
   },
   {
    "duration": 20,
    "start_time": "2024-06-20T21:54:52.612Z"
   },
   {
    "duration": 41,
    "start_time": "2024-06-20T21:54:57.602Z"
   },
   {
    "duration": 6,
    "start_time": "2024-06-20T21:55:02.523Z"
   },
   {
    "duration": 7,
    "start_time": "2024-06-20T21:55:04.852Z"
   },
   {
    "duration": 7,
    "start_time": "2024-06-20T21:55:09.300Z"
   },
   {
    "duration": 33,
    "start_time": "2024-06-20T21:55:13.110Z"
   },
   {
    "duration": 31,
    "start_time": "2024-06-20T21:55:15.561Z"
   },
   {
    "duration": 27,
    "start_time": "2024-06-20T21:55:19.894Z"
   },
   {
    "duration": 31,
    "start_time": "2024-06-20T21:55:24.686Z"
   },
   {
    "duration": 30,
    "start_time": "2024-06-20T21:55:29.545Z"
   },
   {
    "duration": 78,
    "start_time": "2024-06-20T21:55:36.021Z"
   },
   {
    "duration": 98,
    "start_time": "2024-06-20T21:55:45.942Z"
   },
   {
    "duration": 85,
    "start_time": "2024-06-20T21:55:50.452Z"
   },
   {
    "duration": 12,
    "start_time": "2024-06-20T21:56:12.913Z"
   },
   {
    "duration": 368,
    "start_time": "2024-06-20T21:56:48.550Z"
   },
   {
    "duration": 308,
    "start_time": "2024-06-24T19:19:42.692Z"
   },
   {
    "duration": 25,
    "start_time": "2024-06-24T19:19:59.769Z"
   },
   {
    "duration": 24,
    "start_time": "2024-06-24T19:20:01.843Z"
   },
   {
    "duration": 25,
    "start_time": "2024-06-24T19:20:14.594Z"
   },
   {
    "duration": 494,
    "start_time": "2024-06-24T19:23:31.100Z"
   },
   {
    "duration": 184,
    "start_time": "2024-06-24T19:23:35.760Z"
   },
   {
    "duration": 23,
    "start_time": "2024-06-24T19:23:39.019Z"
   },
   {
    "duration": 33,
    "start_time": "2024-06-24T19:23:41.472Z"
   },
   {
    "duration": 6,
    "start_time": "2024-06-24T19:23:46.947Z"
   },
   {
    "duration": 6,
    "start_time": "2024-06-24T19:23:50.193Z"
   },
   {
    "duration": 6,
    "start_time": "2024-06-24T19:23:55.791Z"
   },
   {
    "duration": 33,
    "start_time": "2024-06-24T19:23:58.053Z"
   },
   {
    "duration": 32,
    "start_time": "2024-06-24T19:24:01.242Z"
   },
   {
    "duration": 27,
    "start_time": "2024-06-24T19:24:04.581Z"
   },
   {
    "duration": 28,
    "start_time": "2024-06-24T19:24:17.766Z"
   },
   {
    "duration": 26,
    "start_time": "2024-06-24T19:24:22.362Z"
   },
   {
    "duration": 75,
    "start_time": "2024-06-24T19:24:25.079Z"
   },
   {
    "duration": 92,
    "start_time": "2024-06-24T19:24:27.621Z"
   },
   {
    "duration": 74,
    "start_time": "2024-06-24T19:24:31.019Z"
   },
   {
    "duration": 89,
    "start_time": "2024-06-24T19:24:42.746Z"
   },
   {
    "duration": 76,
    "start_time": "2024-06-24T19:24:48.153Z"
   },
   {
    "duration": 84,
    "start_time": "2024-06-24T19:25:01.104Z"
   },
   {
    "duration": 89,
    "start_time": "2024-06-24T19:25:04.199Z"
   },
   {
    "duration": 75,
    "start_time": "2024-06-24T19:25:09.401Z"
   },
   {
    "duration": 98,
    "start_time": "2024-06-24T19:26:37.445Z"
   },
   {
    "duration": 74,
    "start_time": "2024-06-24T19:27:05.232Z"
   },
   {
    "duration": 337,
    "start_time": "2024-06-24T19:27:32.205Z"
   },
   {
    "duration": 462,
    "start_time": "2024-06-24T19:27:38.796Z"
   },
   {
    "duration": 155,
    "start_time": "2024-06-24T19:27:42.835Z"
   },
   {
    "duration": 21,
    "start_time": "2024-06-24T19:27:45.618Z"
   },
   {
    "duration": 34,
    "start_time": "2024-06-24T19:27:48.066Z"
   },
   {
    "duration": 6,
    "start_time": "2024-06-24T19:27:53.850Z"
   },
   {
    "duration": 7,
    "start_time": "2024-06-24T19:27:56.242Z"
   },
   {
    "duration": 43,
    "start_time": "2024-06-24T19:27:59.674Z"
   },
   {
    "duration": 33,
    "start_time": "2024-06-24T19:28:05.498Z"
   },
   {
    "duration": 27,
    "start_time": "2024-06-24T19:28:12.119Z"
   },
   {
    "duration": 882,
    "start_time": "2024-06-24T19:28:16.444Z"
   },
   {
    "duration": 488,
    "start_time": "2024-06-24T19:28:39.889Z"
   },
   {
    "duration": 151,
    "start_time": "2024-06-24T19:28:41.933Z"
   },
   {
    "duration": 27,
    "start_time": "2024-06-24T19:28:44.394Z"
   },
   {
    "duration": 34,
    "start_time": "2024-06-24T19:28:48.097Z"
   },
   {
    "duration": 6,
    "start_time": "2024-06-24T19:29:00.128Z"
   },
   {
    "duration": 6,
    "start_time": "2024-06-24T19:29:02.596Z"
   },
   {
    "duration": 7,
    "start_time": "2024-06-24T19:29:05.131Z"
   },
   {
    "duration": 32,
    "start_time": "2024-06-24T19:29:07.848Z"
   },
   {
    "duration": 32,
    "start_time": "2024-06-24T19:29:12.654Z"
   },
   {
    "duration": 26,
    "start_time": "2024-06-24T19:29:16.035Z"
   },
   {
    "duration": 35,
    "start_time": "2024-06-24T19:29:19.712Z"
   },
   {
    "duration": 29,
    "start_time": "2024-06-24T19:29:23.773Z"
   },
   {
    "duration": 78,
    "start_time": "2024-06-24T19:29:27.635Z"
   },
   {
    "duration": 99,
    "start_time": "2024-06-24T19:29:30.628Z"
   },
   {
    "duration": 74,
    "start_time": "2024-06-24T19:29:36.591Z"
   },
   {
    "duration": 80,
    "start_time": "2024-06-24T19:30:05.067Z"
   },
   {
    "duration": 79,
    "start_time": "2024-06-24T19:30:07.449Z"
   },
   {
    "duration": 86,
    "start_time": "2024-06-24T19:30:21.223Z"
   },
   {
    "duration": 69,
    "start_time": "2024-06-24T19:30:36.047Z"
   },
   {
    "duration": 13,
    "start_time": "2024-06-24T19:30:39.629Z"
   },
   {
    "duration": 375,
    "start_time": "2024-06-24T19:30:48.027Z"
   },
   {
    "duration": 454,
    "start_time": "2024-06-29T17:05:34.543Z"
   },
   {
    "duration": 205,
    "start_time": "2024-06-29T17:05:40.315Z"
   },
   {
    "duration": 24,
    "start_time": "2024-06-29T17:05:44.817Z"
   },
   {
    "duration": 34,
    "start_time": "2024-06-29T17:05:55.372Z"
   },
   {
    "duration": 7,
    "start_time": "2024-06-29T17:06:03.356Z"
   },
   {
    "duration": 9,
    "start_time": "2024-06-29T17:06:08.800Z"
   },
   {
    "duration": 6,
    "start_time": "2024-06-29T17:06:15.726Z"
   },
   {
    "duration": 33,
    "start_time": "2024-06-29T17:06:20.660Z"
   },
   {
    "duration": 33,
    "start_time": "2024-06-29T17:06:28.921Z"
   },
   {
    "duration": 28,
    "start_time": "2024-06-29T17:06:34.951Z"
   },
   {
    "duration": 41,
    "start_time": "2024-06-29T17:06:40.945Z"
   },
   {
    "duration": 27,
    "start_time": "2024-06-29T17:06:57.768Z"
   },
   {
    "duration": 77,
    "start_time": "2024-06-29T17:07:03.358Z"
   },
   {
    "duration": 91,
    "start_time": "2024-06-29T17:07:06.837Z"
   },
   {
    "duration": 96,
    "start_time": "2024-06-29T17:08:00.779Z"
   },
   {
    "duration": 71,
    "start_time": "2024-06-29T17:08:06.600Z"
   },
   {
    "duration": 11,
    "start_time": "2024-06-29T17:08:15.517Z"
   },
   {
    "duration": 346,
    "start_time": "2024-06-29T17:11:17.747Z"
   },
   {
    "duration": 3,
    "start_time": "2024-06-29T17:12:57.283Z"
   },
   {
    "duration": 163,
    "start_time": "2024-06-29T17:12:57.292Z"
   },
   {
    "duration": 15,
    "start_time": "2024-06-29T17:12:57.458Z"
   },
   {
    "duration": 48,
    "start_time": "2024-06-29T17:12:57.476Z"
   },
   {
    "duration": 6,
    "start_time": "2024-06-29T17:12:57.528Z"
   },
   {
    "duration": 8,
    "start_time": "2024-06-29T17:12:57.539Z"
   },
   {
    "duration": 8,
    "start_time": "2024-06-29T17:12:57.550Z"
   },
   {
    "duration": 83,
    "start_time": "2024-06-29T17:12:57.561Z"
   },
   {
    "duration": 32,
    "start_time": "2024-06-29T17:12:57.647Z"
   },
   {
    "duration": 57,
    "start_time": "2024-06-29T17:12:57.681Z"
   },
   {
    "duration": 30,
    "start_time": "2024-06-29T17:12:57.742Z"
   },
   {
    "duration": 52,
    "start_time": "2024-06-29T17:12:57.775Z"
   },
   {
    "duration": 93,
    "start_time": "2024-06-29T17:12:57.830Z"
   },
   {
    "duration": 97,
    "start_time": "2024-06-29T17:12:57.927Z"
   },
   {
    "duration": 70,
    "start_time": "2024-06-29T17:12:58.027Z"
   },
   {
    "duration": 11,
    "start_time": "2024-06-29T17:12:58.114Z"
   },
   {
    "duration": 21,
    "start_time": "2024-06-29T17:13:14.112Z"
   },
   {
    "duration": 22,
    "start_time": "2024-06-29T17:15:26.080Z"
   },
   {
    "duration": 13,
    "start_time": "2024-06-29T17:16:30.637Z"
   },
   {
    "duration": 11,
    "start_time": "2024-06-29T17:16:52.892Z"
   },
   {
    "duration": 5,
    "start_time": "2024-06-29T17:17:58.939Z"
   },
   {
    "duration": 47,
    "start_time": "2024-06-29T17:18:54.254Z"
   },
   {
    "duration": 27,
    "start_time": "2024-06-29T17:31:50.763Z"
   },
   {
    "duration": 8,
    "start_time": "2024-06-29T18:06:40.446Z"
   },
   {
    "duration": 55,
    "start_time": "2024-06-29T18:09:31.814Z"
   },
   {
    "duration": 25,
    "start_time": "2024-06-29T18:10:09.647Z"
   },
   {
    "duration": 6,
    "start_time": "2024-06-29T18:19:26.179Z"
   },
   {
    "duration": 4,
    "start_time": "2024-06-29T18:19:37.124Z"
   },
   {
    "duration": 33,
    "start_time": "2024-06-29T18:20:43.309Z"
   },
   {
    "duration": 30,
    "start_time": "2024-06-29T18:21:26.928Z"
   },
   {
    "duration": 27,
    "start_time": "2024-06-29T18:21:32.787Z"
   },
   {
    "duration": 20,
    "start_time": "2024-06-29T18:23:26.365Z"
   },
   {
    "duration": 19,
    "start_time": "2024-06-29T18:24:35.611Z"
   },
   {
    "duration": 21,
    "start_time": "2024-06-29T18:24:39.065Z"
   },
   {
    "duration": 21,
    "start_time": "2024-06-29T18:24:58.709Z"
   }
  ],
  "colab": {
   "collapsed_sections": [
    "E0vqbgi9ay0H",
    "VUC88oWjTJw2"
   ],
   "provenance": []
  },
  "kernelspec": {
   "display_name": "Python 3 (ipykernel)",
   "language": "python",
   "name": "python3"
  },
  "language_info": {
   "codemirror_mode": {
    "name": "ipython",
    "version": 3
   },
   "file_extension": ".py",
   "mimetype": "text/x-python",
   "name": "python",
   "nbconvert_exporter": "python",
   "pygments_lexer": "ipython3",
   "version": "3.9.19"
  },
  "toc": {
   "base_numbering": 1,
   "nav_menu": {},
   "number_sections": true,
   "sideBar": true,
   "skip_h1_title": true,
   "title_cell": "Table of Contents",
   "title_sidebar": "Contents",
   "toc_cell": false,
   "toc_position": {},
   "toc_section_display": true,
   "toc_window_display": false
  }
 },
 "nbformat": 4,
 "nbformat_minor": 1
}
